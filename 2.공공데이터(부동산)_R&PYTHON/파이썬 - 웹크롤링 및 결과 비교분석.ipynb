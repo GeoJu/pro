{
 "cells": [
  {
   "cell_type": "markdown",
   "metadata": {},
   "source": [
    "# 파이썬 - 웹크롤링 및 결과 비교분석\n",
    "### 상반된 증감률을 보이는 시점별 지면기사 단어 빈도 비교를 통한 인사이트 도출\n",
    "---\n",
    "## 1.GOAL\n",
    "- R분석을 통해 얻은 부동산 실거래 분기별 결과값을 통해 증감률이 상반된 분기들의 시점에 맞게 네이버 뉴스를 크롤링 한다.\n",
    "- 기사를 통해 각 시점별 단어들의 밀집도를 비교 분석해 **인사이트 도출** 및 비교 분석한다.\n",
    "\n",
    "## 2.TARGET PAGE\n",
    "![2](https://user-images.githubusercontent.com/30791788/36558383-dacbbeaa-1802-11e8-898c-db54b17ff8d2.png)\n",
    "- 박스가 그려져 있는 정보를 컨트롤 한다.\n",
    "\n",
    "## 3.ISSUE\n",
    "- 네이버 검색에서 날짜를 지정하면 동적으로 변화한 HTML값을 가져 올 수 없다. Selenium을 사용해 JavaScript로 랜더링 완료된 후의 결과값에 접근한다.\n",
    "- 네이버 뉴스는 기사를 해당 언론사 페이지로 링크를 걸거나 자체 페이지로 취급하는 방식으로 운영하며 자체페이지로 생성하지 않은 경우도 있어 네이버 자체페이지로 생성하는 기사만 불러 오도록 한다.\n",
    "- 객체지향 코딩\n",
    "- 스크롤링 기준을 타이틀 or 본문 내용으로 선택이 가능하도록 코딩한다."
   ]
  },
  {
   "cell_type": "markdown",
   "metadata": {},
   "source": [
    "### ◎크롤링 코드◎"
   ]
  },
  {
   "cell_type": "code",
   "execution_count": 1,
   "metadata": {},
   "outputs": [],
   "source": [
    "import numpy as np\n",
    "import pymysql\n",
    "import pandas as pd\n",
    "import re\n",
    "import urllib.request\n",
    "from bs4 import BeautifulSoup\n",
    "from selenium import webdriver"
   ]
  },
  {
   "cell_type": "code",
   "execution_count": 17,
   "metadata": {},
   "outputs": [],
   "source": [
    "#크롤링의 메인을 담당하는 class\n",
    "\n",
    "class makeSoup:\n",
    "\tdef __init__(self, keyword1, start, end, pg = '1'): #keyword1 : 검색 할 키워드,  start : 시작 날짜, end : 종료 날짜, pg : 검색 페이지\n",
    "\t\tself.keyword1 = urllib.parse.quote(keyword1)\n",
    "\t\tself.start = start\n",
    "\t\tself.end = end\n",
    "\t\tself.pg = pg\n",
    "\t\t\n",
    "\tdef makeUrl(self):\t    #날짜 값을 받아 검색할 페이지 URL에 적용시킨다.\n",
    "\t\t\n",
    "\t\tstart1 = self.start.replace('.','')\n",
    "\t\tend1 = self.end.replace('.','')\n",
    "\t\tmainUrl = 'https://search.naver.com/search.naver?ie=utf8&where=news&query='+self.keyword1+'&sm=tab_pge&sort=0&photo=3&field=0&reporter_article=&\\\n",
    "\t\tpd=3&ds='+self.start+'&de='+self.end+'&docid=&nso=so:r,p:from'+start1+'to'+end1+',a:all&mynews=0&cluster_rank=11&start='+self.pg\n",
    "\t\treturn(mainUrl)\n",
    "        \n",
    "\tdef webdriver(self, url, cp = '1'): #url : 입력 받을 url, cp : 한페이지에 10건의 뉴스링크가 있으며, 본문기사를 가져올 때  \n",
    "                                        #                          불필요한 드라이버 호출을 없에기 위한 구분 매개변수\n",
    "\t\tself.url = url\n",
    "\t\tif cp == '1':                   #cp가 1일 경우만 PhantomJS드라이버를 호출하여 파싱한다.\n",
    "\t\t\tdriver = webdriver.PhantomJS()    #동적페이지를 크롤링하기 위하여 PhaantomJS드라이버를 호출\n",
    "\t\t\tdriver.get(self.url)\n",
    "\t\t\trep = driver.page_source\n",
    "\t\t\treal_soup = BeautifulSoup(rep,'lxml')\n",
    "\t\t\treturn(real_soup)\n",
    "\t\telse:                           #cp가 1일 아닐 경우 beautiful soup을 이용하여 request\n",
    "\t\t\ttextUrl = urllib.request.Request(self.url)\n",
    "\t\t\ttextRep = urllib.request.urlopen(textUrl).read()\n",
    "\t\t\ttextSoup = BeautifulSoup(textRep,'lxml')\n",
    "\t\t\treturn(textSoup)\n",
    "\t\n",
    "\tdef cleantext(self,text):           #필요한 문자만 추출하는 함수.\n",
    "\t\tself.text = text\n",
    "\t\tcText = str(self.text)[:str(self.text).find('<a href')]\t\t\t\t\n",
    "\t\tcText = re.sub('<.*?>','',cText)\n",
    "\t\tcText = re.sub('[\\{\\}\\[\\]\\/?.,;:|\\)*~`!^\\n\\t\\r\\-_+<>@\\#$%&\\\\\\=\\(\\'\\\"\\u3000\\u8000\\xa0]','', cText)\n",
    "\t\tcText = re.sub('flash.*?back','',cText)\n",
    "\t\treturn(cText)\n"
   ]
  },
  {
   "cell_type": "code",
   "execution_count": 3,
   "metadata": {},
   "outputs": [],
   "source": [
    "#MySQL - R에서 생성한 테이블 추출\n",
    "#dtname : 추출할 테이블 \n",
    "def calldb(dtname):\n",
    "    conn = pymysql.connect(host='localhost', user='root',\n",
    "                           password='1234',db='APT', charset='utf8',\n",
    "                           cursorclass=pymysql.cursors.DictCursor)\n",
    "\n",
    "    sql = \"select * from {}\".format(dtname)        \n",
    "    dt = pd.read_sql(sql, con = conn)\n",
    "    conn.close()\n",
    "    return(dt)"
   ]
  },
  {
   "cell_type": "code",
   "execution_count": 4,
   "metadata": {},
   "outputs": [],
   "source": [
    "#분기별 상반된 증감률 계산, 분기 추출 함수 \n",
    "#Mdt : 비교 대상 데이터\n",
    "#Cdt : 비교 데이터\n",
    "#col : mean_per, sd_per, med_per, n_per, sum_per 선택 중 선택\n",
    "def CounterQ(Mdt,Cdt,col):\n",
    "    \n",
    "    no = np.array([int(x) for x in Mdt[col] > 0])\n",
    "    o1 = np.array([int(x) for x in Cdt[col] < 0])\n",
    "\n",
    "    return(Mdt['quter'][no + o1 == 2], Mdt['quter'][no + o1 == 0][1:]) "
   ]
  },
  {
   "cell_type": "code",
   "execution_count": 13,
   "metadata": {},
   "outputs": [],
   "source": [
    "#크롤링 process 함수\n",
    "#keyword : 검색 할 키워드 입력\n",
    "#Fdt : CounterQ 함수로 계산된 리스트입력 ex:['2013Q1','2014Q3']\n",
    "#title : 뉴스 본문 or 제목 선택 매개변수 \n",
    "\n",
    "def naverNews(keyword, Fdt, title = 'n'):\n",
    "    \n",
    "    exText = {}                      #{기사 날짜 : 본문 내용}                     \n",
    "    titleBox = []                    #[검색하는 페이지의 타이틀] \n",
    "    \n",
    "    for Quter in Fdt:                #리스트 원소에서 start, end 날짜값을 얻어낸다.\n",
    "        \n",
    "        day = Quter.split('Q')\n",
    "        \n",
    "        if day[1] == '1':\n",
    "            start = day[0] + '.' + '01.01'\n",
    "            end = day[0] + '.' + '03.31'\n",
    "        if day[1] == '2':\n",
    "            start = day[0] + '.' + '04.01'\n",
    "            end = day[0] + '.' + '06.30'\n",
    "        if day[1] == '3':\n",
    "            start = day[0] + '.' + '07.01'\n",
    "            end = day[0] + '.' + '09.30'\n",
    "        if day[1] == '4':\n",
    "            start = day[0] + '.' + '10.01'\n",
    "            end = day[0] + '.' + '12.31'\n",
    "        \n",
    "######################################################################################################################\n",
    "#검색 키워드로 검색 했을 시 총 뉴스 건수 찾아내는 코딩 : allN\n",
    "\n",
    "        mainUrl = makeSoup(keyword,start,end)\n",
    "        soup = mainUrl.webdriver(mainUrl.makeUrl())\n",
    "        allN = int(re.findall('\\d+',soup.find('div',{'class':'title_desc all_my'}).string)[2])\n",
    "\n",
    "######################################################################################################################       \n",
    "# 총 건수를 찾기 위해 먼저 request를 해와서 parshing을 한 값이 있기때문에 중복 처리나 같은 작업을 또 하지 않기 위해서 \n",
    "# if문을 이용하여 분리 작업을 하도록 한다.\n",
    "\n",
    "        for i in range(1,allN, 10):\n",
    "        \n",
    "            if i == 1 and title =='n':           #1번째 턴일때 본문 링크를 가져온다 \n",
    "                arr = soup.findAll('a', {'class':re.compile('_sp_each_url')})   \n",
    "            if i == 1 and title !='n':          #1번째 턴이고 title 매개변수가 n이 아닐때 파싱한 페이지에서 타이틀 추출\n",
    "                                                #titleBox리스트에 하나의 원소가 아닌 각각의 원소로 append 한다.\n",
    "                list(map(lambda x : titleBox.append(x), [l['title'] for l in soup.findAll('a',{'class':'_sp_each_title'})]))#중복 for문 방지\n",
    "            elif i != 1: \n",
    "                mainUrl = makeSoup(keyword, start, end, str(i)) #2번째 for문이 실행 될때부터 수정된 url 입력받음 \n",
    "                forSoup = mainUrl.webdriver(mainUrl.makeUrl())  #PhantomJs 파싱\n",
    "\t\t\t\n",
    "                if title =='n':\n",
    "                    arr = forSoup.findAll('a', {'class':re.compile('_sp_each_url')}) \n",
    "                else:\n",
    "                    newsTitle = forSoup.findAll('a',{'class':'_sp_each_title'})\n",
    "\n",
    "#######################################################################################################################\n",
    "#title == n인 경우 감춰지는 for문 \n",
    "\n",
    "                    for cn,tl in enumerate(newsTitle):\n",
    "                        titleBox.append(tl['title'])\n",
    "                    continue\t\n",
    "\n",
    "#title !=n 경우 하단의 for문이 구현될 필요가 없다.\n",
    "#######################################################################################################################                \n",
    "                \n",
    "                for j in range(len(arr)):\n",
    "                    li = arr[j].get('href')\n",
    "                    exT = mainUrl.webdriver(li,'2')\n",
    "                    exText[exT.find('span',{'class':'t11'}).string] = mainUrl.cleantext(exT.find('div',{'id':'articleBodyContents'}))\n",
    "\t\t\t\n",
    "    if exText:\t\t\n",
    "        return(exText)\t\t\n",
    "    return(titleBox)\t \n"
   ]
  },
  {
   "cell_type": "markdown",
   "metadata": {},
   "source": [
    "### ◎DB호출◎"
   ]
  },
  {
   "cell_type": "code",
   "execution_count": 6,
   "metadata": {},
   "outputs": [],
   "source": [
    "normaldt = calldb('normalapt')\n",
    "out15 = calldb('outtrade1')\n",
    "out3 = calldb('outtrade3')"
   ]
  },
  {
   "cell_type": "markdown",
   "metadata": {},
   "source": [
    "### ◎증감률이 상반된 분기◎ "
   ]
  },
  {
   "cell_type": "code",
   "execution_count": 7,
   "metadata": {},
   "outputs": [],
   "source": [
    "noUP, noDN = CounterQ(normaldt, out15, 'mean_per')"
   ]
  },
  {
   "cell_type": "code",
   "execution_count": 114,
   "metadata": {},
   "outputs": [],
   "source": [
    "noUP_out3, noDN_out3 = CounterQ(normaldt, out3, 'mean_per')"
   ]
  },
  {
   "cell_type": "markdown",
   "metadata": {},
   "source": [
    "### ◎크롤링◎ "
   ]
  },
  {
   "cell_type": "code",
   "execution_count": 18,
   "metadata": {},
   "outputs": [
    {
     "name": "stderr",
     "output_type": "stream",
     "text": [
      "C:\\Anaconda3\\lib\\site-packages\\selenium\\webdriver\\phantomjs\\webdriver.py:49: UserWarning: Selenium support for PhantomJS has been deprecated, please use headless versions of Chrome or Firefox instead\n",
      "  warnings.warn('Selenium support for PhantomJS has been deprecated, please use headless '\n"
     ]
    }
   ],
   "source": [
    "UPTitle = naverNews('서울시 아파트',noUP,'y')"
   ]
  },
  {
   "cell_type": "code",
   "execution_count": 20,
   "metadata": {},
   "outputs": [
    {
     "name": "stderr",
     "output_type": "stream",
     "text": [
      "C:\\Anaconda3\\lib\\site-packages\\selenium\\webdriver\\phantomjs\\webdriver.py:49: UserWarning: Selenium support for PhantomJS has been deprecated, please use headless versions of Chrome or Firefox instead\n",
      "  warnings.warn('Selenium support for PhantomJS has been deprecated, please use headless '\n"
     ]
    }
   ],
   "source": [
    "DNTitle = naverNews('서울시 아파트',noDN,'y')"
   ]
  },
  {
   "cell_type": "code",
   "execution_count": 118,
   "metadata": {},
   "outputs": [
    {
     "name": "stderr",
     "output_type": "stream",
     "text": [
      "C:\\Anaconda3\\lib\\site-packages\\selenium\\webdriver\\phantomjs\\webdriver.py:49: UserWarning: Selenium support for PhantomJS has been deprecated, please use headless versions of Chrome or Firefox instead\n",
      "  warnings.warn('Selenium support for PhantomJS has been deprecated, please use headless '\n"
     ]
    }
   ],
   "source": [
    "UPTitle3 = naverNews('서울시 아파트',noUP_out3,'y')"
   ]
  },
  {
   "cell_type": "code",
   "execution_count": 129,
   "metadata": {},
   "outputs": [
    {
     "name": "stderr",
     "output_type": "stream",
     "text": [
      "C:\\Anaconda3\\lib\\site-packages\\selenium\\webdriver\\phantomjs\\webdriver.py:49: UserWarning: Selenium support for PhantomJS has been deprecated, please use headless versions of Chrome or Firefox instead\n",
      "  warnings.warn('Selenium support for PhantomJS has been deprecated, please use headless '\n"
     ]
    }
   ],
   "source": [
    "DNTitle3 = naverNews('서울시 아파트',noDN_out3,'y')"
   ]
  },
  {
   "cell_type": "markdown",
   "metadata": {},
   "source": [
    "### ◎변수 설명◎\n",
    "- - -\n",
    "**NORUP_OUTDN** : Normal 데이터 상승 and OutLier1.5 데이터 하락 분기  \n",
    "**NORDN_OUTUP** : Normal 데이터 하락 and OutLier1.5 데이터 상승 분기\n",
    "- - - \n",
    "**NORUP_OUTDN3** : Normal 데이터 상승 and OutLier3 데이터 하락 분기  \n",
    "**NORDN_OUTUP3** : Normal 데이터 하락 and OutLier3 데이터 상승 분기\n",
    "- - -"
   ]
  },
  {
   "cell_type": "code",
   "execution_count": 148,
   "metadata": {},
   "outputs": [
    {
     "name": "stdout",
     "output_type": "stream",
     "text": [
      "NORUP_OUTDN ->  ['2013Q4', '2014Q3', '2015Q1', '2015Q2']   지면기사 건수 ->  2055\n",
      "NORDN_OUTUP ->  ['2013Q3', '2014Q2'] \t\t\t   지면기사 건수 ->  989\n",
      "NORUP_OUTDN3 ->  ['2014Q3', '2015Q2', '2015Q4', '2016Q3']  지면기사 건수 ->  1976\n",
      "NORDN_OUTUP3 ->  ['2013Q2', '2014Q2', '2014Q4'] \t   지면기사 건수 ->  1426\n"
     ]
    }
   ],
   "source": [
    "print('NORUP_OUTDN -> ', list(noUP), '  지면기사 건수 -> ', len(UPTitle))\n",
    "print('NORDN_OUTUP -> ', list(noDN), '\\t\\t\\t','  지면기사 건수 -> ', len(DNTitle))\n",
    "print('NORUP_OUTDN3 -> ', list(noUP_out3), ' 지면기사 건수 -> ', len(UPTitle3))\n",
    "print('NORDN_OUTUP3 -> ', list(noDN_out3),'\\t', '  지면기사 건수 -> ', len(DNTitle3))"
   ]
  },
  {
   "cell_type": "markdown",
   "metadata": {},
   "source": [
    "### ◎결과확인◎"
   ]
  },
  {
   "cell_type": "code",
   "execution_count": 24,
   "metadata": {},
   "outputs": [],
   "source": [
    "from konlpy.tag import Twitter   #형태소분석 패키지\n",
    "from collections import Counter"
   ]
  },
  {
   "cell_type": "code",
   "execution_count": 187,
   "metadata": {},
   "outputs": [],
   "source": [
    "#konlpy를 이용하여 단어 빈도 출력 함수\n",
    "#no : 제외하고 싶은 단어 리스트\n",
    "#cnText : 데이터 셋\n",
    "#wCn : 최소 단어의 길이\n",
    "#cCn : 최소 빈도 수 \n",
    "\n",
    "def countWord(no, cnText, wCn = 1, cCn = 1):\n",
    "                   \n",
    "    tw = Twitter()                                  \n",
    "\n",
    "    if type(cnText) == dict:                        #본문을 크롤링 할 경우 딕셔너리 형태로 값을 받는다\n",
    "        cnText = ''.join(cnText.values())\n",
    "    else:\n",
    "        cnText = ''.join(cnText)                    #title만 크롤링 할 경우 리스트 형태로 값을 받는다\n",
    "\n",
    "    nouns = tw.nouns(cnText)\t                   \n",
    "    count = Counter(nouns)                                  \n",
    "\n",
    "    if wCn or cCn !=1:\n",
    "        count = Counter({w:c for w,c in count.items() if len(w) >= wCn and c >= cCn and w not in no})\n",
    "    return(count)"
   ]
  },
  {
   "cell_type": "code",
   "execution_count": 186,
   "metadata": {},
   "outputs": [],
   "source": [
    "no = ['서울','서울시','아파트','가구','부동산','단지','관리','마을','사업'] #제외 할 단어"
   ]
  },
  {
   "cell_type": "markdown",
   "metadata": {},
   "source": [
    "#### ⊙스크롤링한 기사 타이틀 시점 별 빈도⊙"
   ]
  },
  {
   "cell_type": "code",
   "execution_count": 188,
   "metadata": {},
   "outputs": [],
   "source": [
    "UPQ = pd.Series(countWord(no, UPTitle, 2, 5))\n",
    "DNQ = pd.Series(countWord(no, DNTitle, 2, 5))"
   ]
  },
  {
   "cell_type": "code",
   "execution_count": 189,
   "metadata": {},
   "outputs": [],
   "source": [
    "UPQ3 = pd.Series(countWord(no, UPTitle3, 2, 5))\n",
    "DNQ3 = pd.Series(countWord(no, DNTitle3, 2, 5))"
   ]
  },
  {
   "cell_type": "markdown",
   "metadata": {},
   "source": [
    "#### ⊙단어 표준화⊙"
   ]
  },
  {
   "cell_type": "code",
   "execution_count": 190,
   "metadata": {},
   "outputs": [],
   "source": [
    "df = pd.concat([UPQ,DNQ], axis = 1, keys = ['NORUP_OUTDN','NORDN_OUTUP'])\n",
    "df = df.fillna(0) #NA값 0으로 치환"
   ]
  },
  {
   "cell_type": "code",
   "execution_count": 191,
   "metadata": {},
   "outputs": [],
   "source": [
    "df3 = pd.concat([UPQ3,DNQ3], axis = 1, keys = ['NORUP_OUTDN3','NORDN_OUTUP3'])\n",
    "df3 = df3.fillna(0) #NA값 0으로 치환"
   ]
  },
  {
   "cell_type": "code",
   "execution_count": 192,
   "metadata": {},
   "outputs": [
    {
     "data": {
      "text/html": [
       "<div>\n",
       "<style scoped>\n",
       "    .dataframe tbody tr th:only-of-type {\n",
       "        vertical-align: middle;\n",
       "    }\n",
       "\n",
       "    .dataframe tbody tr th {\n",
       "        vertical-align: top;\n",
       "    }\n",
       "\n",
       "    .dataframe thead th {\n",
       "        text-align: right;\n",
       "    }\n",
       "</style>\n",
       "<table border=\"1\" class=\"dataframe\">\n",
       "  <thead>\n",
       "    <tr style=\"text-align: right;\">\n",
       "      <th></th>\n",
       "      <th>NORUP_OUTDN</th>\n",
       "      <th>NORDN_OUTUP</th>\n",
       "    </tr>\n",
       "  </thead>\n",
       "  <tbody>\n",
       "    <tr>\n",
       "      <th>count</th>\n",
       "      <td>577.000000</td>\n",
       "      <td>577.000000</td>\n",
       "    </tr>\n",
       "    <tr>\n",
       "      <th>mean</th>\n",
       "      <td>17.331023</td>\n",
       "      <td>17.331023</td>\n",
       "    </tr>\n",
       "    <tr>\n",
       "      <th>std</th>\n",
       "      <td>23.194208</td>\n",
       "      <td>35.177542</td>\n",
       "    </tr>\n",
       "    <tr>\n",
       "      <th>min</th>\n",
       "      <td>0.000000</td>\n",
       "      <td>0.000000</td>\n",
       "    </tr>\n",
       "    <tr>\n",
       "      <th>25%</th>\n",
       "      <td>7.603406</td>\n",
       "      <td>0.000000</td>\n",
       "    </tr>\n",
       "    <tr>\n",
       "      <th>50%</th>\n",
       "      <td>12.165450</td>\n",
       "      <td>0.000000</td>\n",
       "    </tr>\n",
       "    <tr>\n",
       "      <th>75%</th>\n",
       "      <td>18.248175</td>\n",
       "      <td>26.726058</td>\n",
       "    </tr>\n",
       "    <tr>\n",
       "      <th>max</th>\n",
       "      <td>305.656934</td>\n",
       "      <td>467.706013</td>\n",
       "    </tr>\n",
       "  </tbody>\n",
       "</table>\n",
       "</div>"
      ],
      "text/plain": [
       "       NORUP_OUTDN  NORDN_OUTUP\n",
       "count   577.000000   577.000000\n",
       "mean     17.331023    17.331023\n",
       "std      23.194208    35.177542\n",
       "min       0.000000     0.000000\n",
       "25%       7.603406     0.000000\n",
       "50%      12.165450     0.000000\n",
       "75%      18.248175    26.726058\n",
       "max     305.656934   467.706013"
      ]
     },
     "execution_count": 192,
     "metadata": {},
     "output_type": "execute_result"
    }
   ],
   "source": [
    "df = df.div(df.sum())*10000 #전체 빈도수를 10000 단어로 표준화\n",
    "df.describe() "
   ]
  },
  {
   "cell_type": "code",
   "execution_count": 193,
   "metadata": {},
   "outputs": [
    {
     "data": {
      "text/html": [
       "<div>\n",
       "<style scoped>\n",
       "    .dataframe tbody tr th:only-of-type {\n",
       "        vertical-align: middle;\n",
       "    }\n",
       "\n",
       "    .dataframe tbody tr th {\n",
       "        vertical-align: top;\n",
       "    }\n",
       "\n",
       "    .dataframe thead th {\n",
       "        text-align: right;\n",
       "    }\n",
       "</style>\n",
       "<table border=\"1\" class=\"dataframe\">\n",
       "  <thead>\n",
       "    <tr style=\"text-align: right;\">\n",
       "      <th></th>\n",
       "      <th>NORUP_OUTDN3</th>\n",
       "      <th>NORDN_OUTUP3</th>\n",
       "    </tr>\n",
       "  </thead>\n",
       "  <tbody>\n",
       "    <tr>\n",
       "      <th>count</th>\n",
       "      <td>608.000000</td>\n",
       "      <td>608.000000</td>\n",
       "    </tr>\n",
       "    <tr>\n",
       "      <th>mean</th>\n",
       "      <td>16.447368</td>\n",
       "      <td>16.447368</td>\n",
       "    </tr>\n",
       "    <tr>\n",
       "      <th>std</th>\n",
       "      <td>24.951920</td>\n",
       "      <td>28.524596</td>\n",
       "    </tr>\n",
       "    <tr>\n",
       "      <th>min</th>\n",
       "      <td>0.000000</td>\n",
       "      <td>0.000000</td>\n",
       "    </tr>\n",
       "    <tr>\n",
       "      <th>25%</th>\n",
       "      <td>8.145976</td>\n",
       "      <td>0.000000</td>\n",
       "    </tr>\n",
       "    <tr>\n",
       "      <th>50%</th>\n",
       "      <td>11.404366</td>\n",
       "      <td>12.827091</td>\n",
       "    </tr>\n",
       "    <tr>\n",
       "      <th>75%</th>\n",
       "      <td>17.921147</td>\n",
       "      <td>20.523345</td>\n",
       "    </tr>\n",
       "    <tr>\n",
       "      <th>max</th>\n",
       "      <td>391.006843</td>\n",
       "      <td>425.859415</td>\n",
       "    </tr>\n",
       "  </tbody>\n",
       "</table>\n",
       "</div>"
      ],
      "text/plain": [
       "       NORUP_OUTDN3  NORDN_OUTUP3\n",
       "count    608.000000    608.000000\n",
       "mean      16.447368     16.447368\n",
       "std       24.951920     28.524596\n",
       "min        0.000000      0.000000\n",
       "25%        8.145976      0.000000\n",
       "50%       11.404366     12.827091\n",
       "75%       17.921147     20.523345\n",
       "max      391.006843    425.859415"
      ]
     },
     "execution_count": 193,
     "metadata": {},
     "output_type": "execute_result"
    }
   ],
   "source": [
    "df3 = df3.div(df3.sum())*10000 #전체 빈도수를 10000 단어로 표준화\n",
    "df3.describe() "
   ]
  },
  {
   "cell_type": "markdown",
   "metadata": {},
   "source": [
    "#### ⊙Top20 단어, 합산 상위 40단어, 시점별 특정단어⊙"
   ]
  },
  {
   "cell_type": "code",
   "execution_count": 194,
   "metadata": {},
   "outputs": [],
   "source": [
    "NORUP_OUTDN_20 = df.sort_values(by='NORUP_OUTDN', ascending=False)['NORUP_OUTDN'][:20]\n",
    "NORDN_OUTUP_20 = df.sort_values(by='NORDN_OUTUP', ascending=False)['NORDN_OUTUP'][:20]"
   ]
  },
  {
   "cell_type": "code",
   "execution_count": 195,
   "metadata": {},
   "outputs": [],
   "source": [
    "Merge_40 = pd.DataFrame((df['NORUP_OUTDN']+df['NORDN_OUTUP']).sort_values(ascending=False)[:40], columns=['합'])\n",
    "Merge_40 = MergeTop20.merge(df,how='inner',left_index=True, right_index=True)"
   ]
  },
  {
   "cell_type": "code",
   "execution_count": 196,
   "metadata": {},
   "outputs": [],
   "source": [
    "NORUP_OUTDNOnly = df[df['NORUP_OUTDN']-df['NORDN_OUTUP']==df['NORUP_OUTDN']].sort_values(by='NORUP_OUTDN',ascending=False)[:10]\n",
    "NORDN_OUTUPOnly = df[df['NORDN_OUTUP']-df['NORUP_OUTDN']==df['NORDN_OUTUP']].sort_values(by='NORDN_OUTUP',ascending=False)[:10]"
   ]
  },
  {
   "cell_type": "markdown",
   "metadata": {},
   "source": [
    "- - -"
   ]
  },
  {
   "cell_type": "code",
   "execution_count": 197,
   "metadata": {},
   "outputs": [],
   "source": [
    "NORUP_OUTDN3_20 = df3.sort_values(by='NORUP_OUTDN3', ascending=False)['NORUP_OUTDN3'][:20]\n",
    "NORDN_OUTUP3_20 = df3.sort_values(by='NORDN_OUTUP3', ascending=False)['NORDN_OUTUP3'][:20]"
   ]
  },
  {
   "cell_type": "code",
   "execution_count": 198,
   "metadata": {},
   "outputs": [],
   "source": [
    "Merge3_40 = pd.DataFrame((df3['NORUP_OUTDN3']+df3['NORDN_OUTUP3']).sort_values(ascending=False)[:40], columns=['합'])\n",
    "Merge3_40 = Merge3_40.merge(df3,how='inner',left_index=True, right_index=True)"
   ]
  },
  {
   "cell_type": "code",
   "execution_count": 199,
   "metadata": {},
   "outputs": [],
   "source": [
    "NORUP_OUTDN3Only = df3[df3['NORUP_OUTDN3']-df3['NORDN_OUTUP3']==df3['NORUP_OUTDN3']].sort_values(by='NORUP_OUTDN3',ascending=False)[:10]\n",
    "NORDN_OUTUP3Only = df3[df3['NORDN_OUTUP3']-df3['NORUP_OUTDN3']==df3['NORDN_OUTUP3']].sort_values(by='NORDN_OUTUP3',ascending=False)[:10]"
   ]
  },
  {
   "cell_type": "markdown",
   "metadata": {},
   "source": [
    "- - - "
   ]
  },
  {
   "cell_type": "markdown",
   "metadata": {},
   "source": [
    "### ◎그래프 확인◎"
   ]
  },
  {
   "cell_type": "code",
   "execution_count": 82,
   "metadata": {},
   "outputs": [],
   "source": [
    "import matplotlib.pyplot as plt\n",
    "from matplotlib import font_manager, rc"
   ]
  },
  {
   "cell_type": "code",
   "execution_count": 39,
   "metadata": {},
   "outputs": [],
   "source": [
    "font_name = font_manager.FontProperties(fname=\"c:/Windows/Fonts/malgun.ttf\").get_name()\n",
    "rc('font', family=font_name)"
   ]
  },
  {
   "cell_type": "code",
   "execution_count": 200,
   "metadata": {},
   "outputs": [
    {
     "data": {
      "text/plain": [
       "<matplotlib.axes._subplots.AxesSubplot at 0x181207d3898>"
      ]
     },
     "execution_count": 200,
     "metadata": {},
     "output_type": "execute_result"
    },
    {
     "data": {
      "image/png": "[encoded data removed]",
      "text/plain": [
       "<matplotlib.figure.Figure at 0x18122d0a320>"
      ]
     },
     "metadata": {},
     "output_type": "display_data"
    }
   ],
   "source": [
    "#NORUP_OUTDN NORDN_OUTUP Top20 그래프 \n",
    "fig,axes = plt.subplots(2,2)\n",
    "fig.set_size_inches(15, 12)\n",
    "NORUP_OUTDN_20.plot(kind='bar', ax=axes[0,0], title='NORUP_OUTDN_Top20')\n",
    "NORDN_OUTUP_20.plot(kind='bar', ax=axes[0,1], title='NORDN_OUTUPTop20')\n",
    "NORUP_OUTDN3_20.plot(kind='bar', ax=axes[1,0], title='NORUP_OUTDN3_Top20')\n",
    "NORDN_OUTUP3_20.plot(kind='bar', ax=axes[1,1], title='NORDN_OUTUP3Top20')"
   ]
  },
  {
   "cell_type": "code",
   "execution_count": 185,
   "metadata": {},
   "outputs": [
    {
     "name": "stdout",
     "output_type": "stream",
     "text": [
      "NORUP_OUTDN ->  ['2013Q4', '2014Q3', '2015Q1', '2015Q2']\n",
      "NORDN_OUTUP ->  ['2013Q3', '2014Q2']\n",
      "NORUP_OUTDN3 ->  ['2014Q3', '2015Q2', '2015Q4', '2016Q3']\n",
      "NORDN_OUTUP3 ->  ['2013Q2', '2014Q2', '2014Q4']\n"
     ]
    },
    {
     "data": {
      "text/plain": [
       "<matplotlib.axes._subplots.AxesSubplot at 0x18120f03b70>"
      ]
     },
     "execution_count": 185,
     "metadata": {},
     "output_type": "execute_result"
    },
    {
     "data": {
      "image/png": "[encoded data removed]",
      "text/plain": [
       "<matplotlib.figure.Figure at 0x1812128ec18>"
      ]
     },
     "metadata": {},
     "output_type": "display_data"
    }
   ],
   "source": [
    "print('NORUP_OUTDN -> ',list(noUP))\n",
    "print('NORDN_OUTUP -> ',list(noDN))\n",
    "print('NORUP_OUTDN3 -> ', list(noUP_out3))\n",
    "print('NORDN_OUTUP3 -> ', list(noDN_out3))\n",
    "fig,axes = plt.subplots(2,2)\n",
    "fig.set_size_inches(15, 12)\n",
    "NORUP_OUTDNOnly.sort_values(by='NORUP_OUTDN').plot(ax=axes[0,0], kind='barh', title='NORUP_OUTDN 시기에만 사용된 단어 Top10', legend=False)\n",
    "NORDN_OUTUPOnly.sort_values(by='NORDN_OUTUP').plot(ax=axes[0,1], kind='barh', title='NORDN_OUTUP 시기에만 사용된 단어 Top10', legend=False)\n",
    "NORUP_OUTDN3Only.sort_values(by='NORUP_OUTDN3').plot(ax=axes[1,0], kind='barh', title='NORUP_OUTDN3 시기에만 사용된 단어 Top10', legend=False)\n",
    "NORDN_OUTUP3Only.sort_values(by='NORDN_OUTUP3').plot(ax=axes[1,1], kind='barh', title='NORDN_OUTUP3 시기에만 사용된 단어 Top10', legend=False)"
   ]
  },
  {
   "cell_type": "markdown",
   "metadata": {},
   "source": [
    "### PS & TODO\n",
    " 네이버뉴스 기사중 지면기사 카테고리의 뉴스들의 본문을 스크롤링하여 분석할 계획이었으나 과부화 문제가 발생하여 타이틀 분석으로 방향을 선회 할 수밖에 없었다. \n",
    "  \n",
    " 단어들이 전체적으로 비슷한 분포를 가지고 있으며 모든 시점에서 **재건축**이 앞도적으로 노출이  되고있다. 특이점은 **NORDN_OUTUP**시점에 공통적으로 선거에 관련한 단어들이 노출되고 있다.  **NORDN_OUTUP**시점에 **지역(용산,잠실,반포,둔촌,가락,구로)의** 언급이 자주 출현한다. \n",
    " \n",
    " 부동산 대책이 실효성이 있을까에 대한 의문에는 2014년3분기는  **NORUP_OUTDN** 시점이며 대책또한 서민주거 안정강화 방안이 주를 이룬다. 그러나 2015년 또한 비슷한 시점이고 대책 또한 같은 방향성을 가지지만 R분석결과에서는 거래량이 급등 하였으며 가장 많은 OUTLIER를 가진 해이기도 하다. 부동산시장은 특정한 계절에 계절성 주기를 가진다고 하기에도 실제 데이터는 고른 분포를 가지고 있어 좀 더 많은 데이터를 확보 할 필요가 있다.\n",
    "  램덤프 문제 해결, 수집환경(하둡을 분산환경)갖춰 카페나 SNS등 커뮤니티 데이터도 융합하여 진행한다면 유의미한 결과를 가질 것이다.  "
   ]
  }
 ],
 "metadata": {
  "kernelspec": {
   "display_name": "Python 3",
   "language": "python",
   "name": "python3"
  },
  "language_info": {
   "codemirror_mode": {
    "name": "ipython",
    "version": 3
   },
   "file_extension": ".py",
   "mimetype": "text/x-python",
   "name": "python",
   "nbconvert_exporter": "python",
   "pygments_lexer": "ipython3",
   "version": "3.6.4"
  }
 },
 "nbformat": 4,
 "nbformat_minor": 2
}
