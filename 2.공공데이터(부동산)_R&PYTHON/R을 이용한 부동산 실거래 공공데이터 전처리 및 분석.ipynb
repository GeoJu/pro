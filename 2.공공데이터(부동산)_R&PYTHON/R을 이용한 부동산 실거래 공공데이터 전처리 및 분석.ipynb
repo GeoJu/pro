{
 "cells": [
  {
   "cell_type": "markdown",
   "metadata": {},
   "source": [
    "# R을 이용한 부동산 실거래 공공데이터 전처리 및 분석\n",
    "### IQR 분위수에 따른 거래가의 대표값 및 증감률의 변화\n",
    "-----------------------------------------------------------------------------\n",
    "## 1.GOAL ##\n",
    "- 데이터 탐색을 통하여 이상치에 해당하는 데이터와 정상분포에 해당하는 데이터를 비교 분석한다.\n",
    "- 서울 특별시의 [권역별], [년도별], [분기별], [각 행정구의 년도 / 분기별] \n",
    "  실거래가의 변화를 확인하여 패턴이나 특이점을 찾는다.\n",
    "- 효율적인 데이터 전처리와 성능을 우선하여 코딩을 작성한다.(data.table, pipeline)\n",
    "- 찾아낸 특이 점이나 패턴을 네이버 부동산 뉴스를 통하여 확인 할 수 있는지 스크롤링 한다.(파이썬을 통한 접근)\n",
    "- database에 table을 생성하여 연산된 값을 저장한다.\n",
    "\n",
    "## 2.DATA SET ##\n",
    "- ****국토해양부 실거래가<http://rtdown.molit.go.kr/download/downloadMainList.do>****\n",
    "![원본데이터](https://user-images.githubusercontent.com/30791788/34996442-8cbaeb30-fad1-11e7-8cf6-92f4ba13f5f8.PNG \"**원본데이터**\")\n",
    "- 원본 데이터는 excel파일로 해당 사이트에서 다운이 가능하며 서울특별시 sheet 만 분석에 사용.\n",
    "- 2013~2016년까지 48건의 엑셀 파일이 있으며 380311 관측치를 갖는다.\n",
    "- 아래와 같은 속성값을 갖도록 변형 한다.  \n",
    "  \n",
    "## 3.ISSUE ##\n",
    "- 권역 / 분기 정보 생성(inner join을 통한 권역 정보 생성, 조건문을 통한 분기 정보 생성)\n",
    "- 전용면적을 계급값(under-60㎡,61-85㎡,86-135㎡,over-135㎡ / 소형, 중형, 대형, 초대형)으로 표현\n",
    "- 시군구의 row값이 [서울특별시 강남구 개포동]으로 되어 있어 구와 동을 분리하여 각각의 컬럼을 생성해야 한다.\n",
    "- 거래금액(만원) 컬럼의 row값이 천단위로 쉼표 표시로 인한 type오류.\n",
    "- 거래금액 만원 단위 -> 억 단위로 변경\n",
    "- 컬럼 명이 8행에 위치  \n",
    "- 서울특별시 sheet이지만 중간중간 다른 지역의 정보 값도 내재 되어있다.\n",
    "\n",
    "## 4.FUNTION Explanation ##\n",
    "- workYear : 환경에 저장되어 있는 데이터 셋에서 원하는 년도를 분류 한다.\n",
    "- findGu : 검색 할 구를 선택 하거나 기본 셋팅 되어있는 리스트를 사용 하고 mapping을 위한 데이터프레임을 생성한다.\n",
    "- pre_apt : ISSUE에 해당하는 문제해결 하고 data.table, pipeline을 사용하여 분석에 맞게 전처리 한다.\n",
    " \n",
    "- - -"
   ]
  },
  {
   "cell_type": "markdown",
   "metadata": {},
   "source": [
    "#### LIBRARY"
   ]
  },
  {
   "cell_type": "code",
   "execution_count": 1,
   "metadata": {},
   "outputs": [
    {
     "name": "stderr",
     "output_type": "stream",
     "text": [
      "Warning message:\n",
      "\"package 'gridExtra' was built under R version 3.4.3\"\n",
      "Attaching package: 'reshape2'\n",
      "\n",
      "The following objects are masked from 'package:data.table':\n",
      "\n",
      "    dcast, melt\n",
      "\n",
      "Warning message:\n",
      "\"package 'RMySQL' was built under R version 3.4.3\"\n",
      "Attaching package: 'zoo'\n",
      "\n",
      "The following objects are masked from 'package:base':\n",
      "\n",
      "    as.Date, as.Date.numeric\n",
      "\n"
     ]
    }
   ],
   "source": [
    "library(data.table)\n",
    "library(DBI)\n",
    "library(ggplot2)\n",
    "library(gridExtra)\n",
    "library(magrittr)\n",
    "library(readxl)\n",
    "library(reshape2)\n",
    "library(RMySQL)\n",
    "library(timeDate)\n",
    "library(zoo)\n",
    "options(warn=-1) "
   ]
  },
  {
   "cell_type": "markdown",
   "metadata": {},
   "source": [
    "#### Call Directory"
   ]
  },
  {
   "cell_type": "code",
   "execution_count": 2,
   "metadata": {},
   "outputs": [],
   "source": [
    "setwd('D:/WorkSpace/R/아파트매매')\n",
    "dir <- c('D:/WorkSpace/R/아파트매매')"
   ]
  },
  {
   "cell_type": "markdown",
   "metadata": {},
   "source": [
    "#### workYear"
   ]
  },
  {
   "cell_type": "code",
   "execution_count": 3,
   "metadata": {},
   "outputs": [],
   "source": [
    "#디렉토리 안의 파일 리스트에서 사용자가 지정한 날짜를 분류하여 목록을 가져오는 함수\n",
    "#st : 시작 년\n",
    "#ed : 종료 년  \n",
    "#미입력 시  리스트를 전부 가져온다.\n",
    "workYear <- function(st = '', ed = ''){ \n",
    "  aptfile <- list.files(dir)   \n",
    "  if ( st == '' & ed == ''){   #전체 리스트\n",
    "    return(aptfile)}\n",
    "  else if (st !='' & ed == '') #시작 년도만 지정\n",
    "    return(aptfile[between(as.numeric(tstrsplit(aptfile,'년')[[1]]), st, max(as.numeric(tstrsplit(aptfile,'년')[[1]])))])\n",
    "  else if(st & ed != '')\n",
    "    return(aptfile[between(as.numeric(tstrsplit(aptfile,'년')[[1]]), st, ed)]) #시작, 마지막년도 지정\n",
    "}"
   ]
  },
  {
   "cell_type": "markdown",
   "metadata": {},
   "source": [
    "#### findGu"
   ]
  },
  {
   "cell_type": "code",
   "execution_count": 4,
   "metadata": {},
   "outputs": [],
   "source": [
    "#검색할 구, 권역 선택 함수\n",
    "#se : 권역, 선택 할 구, ALL등 사용자 선택 가능하도록 해주는 함수\n",
    "findGu <- function(se = 'ALL'){\n",
    "  options(warn=-1) \n",
    "  seoul <- list(\"서울동남\" = c(\"강남구\", \"강동구\", \"서초구\", \"송파구\"),         #서울 행정구를 권역별 기준에 따라 리스트 생성\n",
    "                \"서울동북\" = c(\"강북구\", \"광진구\", \"노원구\", \"도봉구\", \"동대문구\", \"성동구\", \"성북구\", \"중랑구\"),\n",
    "                \"서울서남\" = c(\"강서구\", \"관악구\", \"구로구\", \"금천구\", \"동작구\", \"양천구\", \"영등포구\"),\n",
    "                \"서울서북\" = c(\"마포구\", \"서대문구\", \"은평구\"),\n",
    "                \"서울도심\" = c(\"용산구\", \"종로구\", \"중구\"))\n",
    "  \n",
    "  if (se == 'list')          #mapping table 호출시 사용\n",
    "    return(melt(seoul))\n",
    "  \n",
    "  if (!(se %in% c(unlist(seoul), names(seoul), c('ES','EN','SS','SN','SC','ALL','list'))))#리스트에 없는 정보 호출 시 error\n",
    "    stop('검색 조건을 확인 하세요') \n",
    "  \n",
    "  if (se !='' & !(se %in% c(names(seoul),c('ES','EN','SS','SN','SC','ALL','list'))))#위의 조건문으로 리스트에 있는 입력 값이나 \n",
    "      return(se)                                                                    #[권역별, 전체]행정구가 아닌 선택한 구 호출 \n",
    "        \n",
    "  \n",
    "  if (se == 'ALL' | se == 'A') se <- c(matrix(unlist(seoul)))                             #권역별 행정구 선택\n",
    "  else if (se == '서울동남' | se == 'ES') se <-seoul[[1]]\n",
    "  else if (se == '서울동북' | se == 'EN') se <-seoul[[2]]\n",
    "  else if (se == '서울서남' | se == 'SS') se <-seoul[[3]]\n",
    "  else if (se == '서울서북' | se == 'SN') se <-seoul[[4]]\n",
    "  else if (se == '서울도심' | se == 'SC') se <-seoul[[5]]\n",
    "  \n",
    "  return(se)\n",
    "}\n"
   ]
  },
  {
   "cell_type": "markdown",
   "metadata": {},
   "source": [
    "#### pre_apt"
   ]
  },
  {
   "cell_type": "code",
   "execution_count": 5,
   "metadata": {},
   "outputs": [],
   "source": [
    "#전처리 메인 함수\n",
    "#work : workYear함수를 통해 구해진 엑셀 파일 리스트\n",
    "#gu : findGu 함수를 호출 할때 사용 매개변수(검색할 구 or 권역 입력가능)\n",
    "pre_apt <- function(work,Gu){\n",
    "\n",
    "  cnt <- 1\n",
    "  aptBox <- list()\n",
    "  searchGu <- findGu(Gu)\n",
    "  mapping <- findGu('list') %>% setnames(.,c('구','권역'))    #권역 정보 join을 위한 데이터 프레임 생성\n",
    "  \n",
    "  for (i in work){\n",
    "    \n",
    "    ym <- gsub('[년월]','',tstrsplit(i,'_'))                  #해당 년/월 정보 생성\n",
    "    \n",
    "    rApt <- read_excel(i, sheet = '서울특별시', skip = 7, col_names = T, col_type = 'guess') %>% as.data.table %>% \n",
    "      .[,c(1,3,4,5,6,7,8)] %>% setnames(.,c(1,3,5),c('구동','전용면적','거래금액')) %>% \n",
    "      .[, c('구','동') := tstrsplit(구동, ' ', fixed = T, keep = c(2,3))] %>%   #한 컬럼에 명시된 구/동을 각각의 컬럼으로 분리  \n",
    "      .[구 %in% searchGu] %>%                                                   #필요한 행정구만 분리\n",
    "      .[, 구동 := NULL] %>% merge(.,mapping, by = '구') %>%                     #join을 통해 쉽게 권역정보 생성\n",
    "      .[, 거래금액 := gsub(',','', .$거래금액)] %>%  \n",
    "      .[, '년' := ym[1]] %>% \n",
    "      .[, '월' := ym[2]] %>% \n",
    "      .[, '분기' := paste0(년,ifelse(between(as.numeric(월),1,3),'Q1', \n",
    "                                  ifelse(between(as.numeric(월),4,6),'Q2',\n",
    "                                         ifelse(between(as.numeric(월),7,9),'Q3', 'Q4'))))] %>%       #분기 정보 분할 생성\n",
    "      .[, '전용면적' := ifelse(as.numeric(전용면적) <= 60,'under-60㎡',\n",
    "                               ifelse(between(as.numeric(전용면적), 61, 85, incbounds=TRUE),'61-85㎡', \n",
    "                                      ifelse(between(as.numeric(전용면적), 86, 135, incbounds=TRUE),'86-135㎡','over-135㎡')))] %>% \n",
    "                                       #전용면적으로 소,중,대,특대 사이즈로 분할 생성 / 기준 국토교통부 부동산 평가과\n",
    "      \n",
    "      .[,c(names(.)[!names(.) %in% c('단지명','거래금액','건축년도')]) := lapply(.SD, as.factor), \n",
    "                        .SDcols = c(names(.)[!names(.) %in% c('단지명','거래금액','건축년도')])] %>%           \n",
    "                         #단지명, 거래금액, 건축년도를 제외하고 팩터타입으로 변경, 추후 임포트 테이블 스키마에 따른 변경 가능.\n",
    "      .[,거래금액 := as.numeric(거래금액) / 10000] %>%   #거래금액 억단위 변환                        \n",
    "    \n",
    "      .[,c(9,12,10,11,1,8,2,3,6,4,7,5)]   \n",
    "\n",
    "        aptBox[[cnt]] <- rApt\n",
    "    cnt <- cnt + 1\n",
    "    \n",
    "  }\n",
    "  \n",
    "  apt1 <- rbindlist(aptBox) \n",
    "  return(apt1)\n",
    "}"
   ]
  },
  {
   "cell_type": "markdown",
   "metadata": {},
   "source": [
    "#### input arg "
   ]
  },
  {
   "cell_type": "code",
   "execution_count": 6,
   "metadata": {},
   "outputs": [],
   "source": [
    "i_start <- ''                  #검색 시작날짜 설정\n",
    "i_end <- ''                    #검색 종료 날짜 설정\n",
    "i_area <- 'ALL'                #검색 할 지역 설정 기본 셋팅은 전체 행정구이다. 권역별, 사용자가 원하는 구 입력 가능.\n",
    "\n",
    "\n",
    "apt_process <- function(i_start,i_end,i_area){\n",
    "      c_work <- workYear(i_start,i_end)\n",
    "      result_table <- pre_apt(c_work,i_area)\n",
    "return(result_table)\n",
    "}"
   ]
  },
  {
   "cell_type": "markdown",
   "metadata": {},
   "source": [
    "#### process "
   ]
  },
  {
   "cell_type": "code",
   "execution_count": 7,
   "metadata": {},
   "outputs": [
    {
     "data": {
      "text/plain": [
       "   user  system elapsed \n",
       "  14.31    1.03   16.64 "
      ]
     },
     "metadata": {},
     "output_type": "display_data"
    }
   ],
   "source": [
    "system.time(preApt <- apt_process(i_start,i_end,i_area))"
   ]
  },
  {
   "cell_type": "markdown",
   "metadata": {},
   "source": [
    "### ◎전처리 후 데이터 확인◎"
   ]
  },
  {
   "cell_type": "code",
   "execution_count": 8,
   "metadata": {},
   "outputs": [
    {
     "name": "stdout",
     "output_type": "stream",
     "text": [
      "Classes 'data.table' and 'data.frame':\t380311 obs. of  12 variables:\n",
      " $ 권역    : Factor w/ 5 levels \"서울도심\",\"서울동남\",..: 2 2 2 2 2 2 2 2 2 2 ...\n",
      " $ 분기    : Factor w/ 16 levels \"2013Q1\",\"2013Q2\",..: 1 1 1 1 1 1 1 1 1 1 ...\n",
      " $ 년      : Factor w/ 4 levels \"2013\",\"2014\",..: 1 1 1 1 1 1 1 1 1 1 ...\n",
      " $ 월      : Factor w/ 12 levels \"01\",\"02\",\"03\",..: 1 1 1 1 1 1 1 1 1 1 ...\n",
      " $ 구      : Factor w/ 25 levels \"강남구\",\"강동구\",..: 1 1 1 1 1 1 1 1 1 1 ...\n",
      " $ 동      : Factor w/ 326 levels \"가락동\",\"가산동\",..: 7 7 7 7 7 7 7 7 7 7 ...\n",
      " $ 단지명  : chr  \"개포자이(12-2)\" \"개포주공 1단지\" \"개포주공 1단지\" \"개포주공 1단지\" ...\n",
      " $ 전용면적: Factor w/ 4 levels \"61-85㎡\",\"86-135㎡\",..: 2 4 4 4 4 4 4 4 4 4 ...\n",
      " $ 층      : Factor w/ 73 levels \"1\",\"10\",\"11\",..: 33 1 37 1 37 23 37 37 37 33 ...\n",
      " $ 계약일  : Factor w/ 6 levels \"1~10\",\"11~20\",..: 3 1 2 3 2 2 2 3 3 2 ...\n",
      " $ 건축년도: chr  \"2004\" \"1982\" \"1982\" \"1982\" ...\n",
      " $ 거래금액: num  8.9 4.94 5.05 5.4 5.04 5.9 6 6.3 6.45 6 ...\n",
      " - attr(*, \".internal.selfref\")=<externalptr> \n"
     ]
    }
   ],
   "source": [
    "str(preApt)"
   ]
  },
  {
   "cell_type": "code",
   "execution_count": 9,
   "metadata": {
    "scrolled": true
   },
   "outputs": [
    {
     "data": {
      "text/html": [
       "<table>\n",
       "<thead><tr><th scope=col>권역</th><th scope=col>분기</th><th scope=col>년</th><th scope=col>월</th><th scope=col>구</th><th scope=col>동</th><th scope=col>단지명</th><th scope=col>전용면적</th><th scope=col>층</th><th scope=col>계약일</th><th scope=col>건축년도</th><th scope=col>거래금액</th></tr></thead>\n",
       "<tbody>\n",
       "\t<tr><td>서울동남      </td><td>2013Q1        </td><td>2013          </td><td>01            </td><td>강남구        </td><td>개포동        </td><td>개포자이(12-2)</td><td>86-135㎡      </td><td>4             </td><td>21~31         </td><td>2004          </td><td>8.90          </td></tr>\n",
       "\t<tr><td>서울동남      </td><td>2013Q1        </td><td>2013          </td><td>01            </td><td>강남구        </td><td>개포동        </td><td>개포주공 1단지</td><td>under-60㎡    </td><td>1             </td><td>1~10          </td><td>1982          </td><td>4.94          </td></tr>\n",
       "\t<tr><td>서울동남      </td><td>2013Q1        </td><td>2013          </td><td>01            </td><td>강남구        </td><td>개포동        </td><td>개포주공 1단지</td><td>under-60㎡    </td><td>5             </td><td>11~20         </td><td>1982          </td><td>5.05          </td></tr>\n",
       "\t<tr><td>서울동남      </td><td>2013Q1        </td><td>2013          </td><td>01            </td><td>강남구        </td><td>개포동        </td><td>개포주공 1단지</td><td>under-60㎡    </td><td>1             </td><td>21~31         </td><td>1982          </td><td>5.40          </td></tr>\n",
       "\t<tr><td>서울동남      </td><td>2013Q1        </td><td>2013          </td><td>01            </td><td>강남구        </td><td>개포동        </td><td>개포주공 1단지</td><td>under-60㎡    </td><td>5             </td><td>11~20         </td><td>1982          </td><td>5.04          </td></tr>\n",
       "\t<tr><td>서울동남      </td><td>2013Q1        </td><td>2013          </td><td>01            </td><td>강남구        </td><td>개포동        </td><td>개포주공 1단지</td><td>under-60㎡    </td><td>3             </td><td>11~20         </td><td>1982          </td><td>5.90          </td></tr>\n",
       "\t<tr><td>서울동북      </td><td>2016Q4        </td><td>2016          </td><td>12            </td><td>중랑구        </td><td>중화동        </td><td>동양엔파트    </td><td>61-85㎡       </td><td>13            </td><td>1~10          </td><td>2010          </td><td>3.98          </td></tr>\n",
       "\t<tr><td>서울동북      </td><td>2016Q4        </td><td>2016          </td><td>12            </td><td>중랑구        </td><td>중화동        </td><td>미영리치타운  </td><td>61-85㎡       </td><td>7             </td><td>21~31         </td><td>2007          </td><td>3.70          </td></tr>\n",
       "\t<tr><td>서울동북      </td><td>2016Q4        </td><td>2016          </td><td>12            </td><td>중랑구        </td><td>중화동        </td><td>한솔e(B동)    </td><td>under-60㎡    </td><td>7             </td><td>1~10          </td><td>2004          </td><td>1.65          </td></tr>\n",
       "\t<tr><td>서울동북      </td><td>2016Q4        </td><td>2016          </td><td>12            </td><td>중랑구        </td><td>중화동        </td><td>한신1차       </td><td>under-60㎡    </td><td>14            </td><td>1~10          </td><td>1997          </td><td>3.20          </td></tr>\n",
       "\t<tr><td>서울동북      </td><td>2016Q4        </td><td>2016          </td><td>12            </td><td>중랑구        </td><td>중화동        </td><td>한신1차       </td><td>61-85㎡       </td><td>16            </td><td>1~10          </td><td>1997          </td><td>3.85          </td></tr>\n",
       "\t<tr><td>서울동북      </td><td>2016Q4        </td><td>2016          </td><td>12            </td><td>중랑구        </td><td>중화동        </td><td>현대휴앤미    </td><td>86-135㎡      </td><td>5             </td><td>1~10          </td><td>2007          </td><td>3.20          </td></tr>\n",
       "</tbody>\n",
       "</table>\n"
      ],
      "text/latex": [
       "\\begin{tabular}{r|llllllllllll}\n",
       " 권역 & 분기 & 년 & 월 & 구 & 동 & 단지명 & 전용면적 & 층 & 계약일 & 건축년도 & 거래금액\\\\\n",
       "\\hline\n",
       "\t 서울동남               & 2013Q1                 & 2013                   & 01                     & 강남구                 & 개포동                 & 개포자이(12-2)         & 86-135㎡               & 4                      & 21\\textasciitilde{}31 & 2004                   & 8.90                  \\\\\n",
       "\t 서울동남               & 2013Q1                 & 2013                   & 01                     & 강남구                 & 개포동                 & 개포주공 1단지         & under-60㎡             & 1                      & 1\\textasciitilde{}10  & 1982                   & 4.94                  \\\\\n",
       "\t 서울동남               & 2013Q1                 & 2013                   & 01                     & 강남구                 & 개포동                 & 개포주공 1단지         & under-60㎡             & 5                      & 11\\textasciitilde{}20 & 1982                   & 5.05                  \\\\\n",
       "\t 서울동남               & 2013Q1                 & 2013                   & 01                     & 강남구                 & 개포동                 & 개포주공 1단지         & under-60㎡             & 1                      & 21\\textasciitilde{}31 & 1982                   & 5.40                  \\\\\n",
       "\t 서울동남               & 2013Q1                 & 2013                   & 01                     & 강남구                 & 개포동                 & 개포주공 1단지         & under-60㎡             & 5                      & 11\\textasciitilde{}20 & 1982                   & 5.04                  \\\\\n",
       "\t 서울동남               & 2013Q1                 & 2013                   & 01                     & 강남구                 & 개포동                 & 개포주공 1단지         & under-60㎡             & 3                      & 11\\textasciitilde{}20 & 1982                   & 5.90                  \\\\\n",
       "\t 서울동북               & 2016Q4                 & 2016                   & 12                     & 중랑구                 & 중화동                 & 동양엔파트             & 61-85㎡                & 13                     & 1\\textasciitilde{}10  & 2010                   & 3.98                  \\\\\n",
       "\t 서울동북               & 2016Q4                 & 2016                   & 12                     & 중랑구                 & 중화동                 & 미영리치타운           & 61-85㎡                & 7                      & 21\\textasciitilde{}31 & 2007                   & 3.70                  \\\\\n",
       "\t 서울동북               & 2016Q4                 & 2016                   & 12                     & 중랑구                 & 중화동                 & 한솔e(B동)             & under-60㎡             & 7                      & 1\\textasciitilde{}10  & 2004                   & 1.65                  \\\\\n",
       "\t 서울동북               & 2016Q4                 & 2016                   & 12                     & 중랑구                 & 중화동                 & 한신1차                & under-60㎡             & 14                     & 1\\textasciitilde{}10  & 1997                   & 3.20                  \\\\\n",
       "\t 서울동북               & 2016Q4                 & 2016                   & 12                     & 중랑구                 & 중화동                 & 한신1차                & 61-85㎡                & 16                     & 1\\textasciitilde{}10  & 1997                   & 3.85                  \\\\\n",
       "\t 서울동북               & 2016Q4                 & 2016                   & 12                     & 중랑구                 & 중화동                 & 현대휴앤미             & 86-135㎡               & 5                      & 1\\textasciitilde{}10  & 2007                   & 3.20                  \\\\\n",
       "\\end{tabular}\n"
      ],
      "text/markdown": [
       "\n",
       "권역 | 분기 | 년 | 월 | 구 | 동 | 단지명 | 전용면적 | 층 | 계약일 | 건축년도 | 거래금액 | \n",
       "|---|---|---|---|---|---|---|---|---|---|---|---|\n",
       "| 서울동남       | 2013Q1         | 2013           | 01             | 강남구         | 개포동         | 개포자이(12-2) | 86-135㎡       | 4              | 21~31          | 2004           | 8.90           | \n",
       "| 서울동남       | 2013Q1         | 2013           | 01             | 강남구         | 개포동         | 개포주공 1단지 | under-60㎡     | 1              | 1~10           | 1982           | 4.94           | \n",
       "| 서울동남       | 2013Q1         | 2013           | 01             | 강남구         | 개포동         | 개포주공 1단지 | under-60㎡     | 5              | 11~20          | 1982           | 5.05           | \n",
       "| 서울동남       | 2013Q1         | 2013           | 01             | 강남구         | 개포동         | 개포주공 1단지 | under-60㎡     | 1              | 21~31          | 1982           | 5.40           | \n",
       "| 서울동남       | 2013Q1         | 2013           | 01             | 강남구         | 개포동         | 개포주공 1단지 | under-60㎡     | 5              | 11~20          | 1982           | 5.04           | \n",
       "| 서울동남       | 2013Q1         | 2013           | 01             | 강남구         | 개포동         | 개포주공 1단지 | under-60㎡     | 3              | 11~20          | 1982           | 5.90           | \n",
       "| 서울동북       | 2016Q4         | 2016           | 12             | 중랑구         | 중화동         | 동양엔파트     | 61-85㎡        | 13             | 1~10           | 2010           | 3.98           | \n",
       "| 서울동북       | 2016Q4         | 2016           | 12             | 중랑구         | 중화동         | 미영리치타운   | 61-85㎡        | 7              | 21~31          | 2007           | 3.70           | \n",
       "| 서울동북       | 2016Q4         | 2016           | 12             | 중랑구         | 중화동         | 한솔e(B동)     | under-60㎡     | 7              | 1~10           | 2004           | 1.65           | \n",
       "| 서울동북       | 2016Q4         | 2016           | 12             | 중랑구         | 중화동         | 한신1차        | under-60㎡     | 14             | 1~10           | 1997           | 3.20           | \n",
       "| 서울동북       | 2016Q4         | 2016           | 12             | 중랑구         | 중화동         | 한신1차        | 61-85㎡        | 16             | 1~10           | 1997           | 3.85           | \n",
       "| 서울동북       | 2016Q4         | 2016           | 12             | 중랑구         | 중화동         | 현대휴앤미     | 86-135㎡       | 5              | 1~10           | 2007           | 3.20           | \n",
       "\n",
       "\n"
      ],
      "text/plain": [
       "   권역     분기   년   월 구     동     단지명         전용면적   층 계약일\n",
       "1  서울동남 2013Q1 2013 01 강남구 개포동 개포자이(12-2) 86-135㎡   4  21~31 \n",
       "2  서울동남 2013Q1 2013 01 강남구 개포동 개포주공 1단지 under-60㎡ 1  1~10  \n",
       "3  서울동남 2013Q1 2013 01 강남구 개포동 개포주공 1단지 under-60㎡ 5  11~20 \n",
       "4  서울동남 2013Q1 2013 01 강남구 개포동 개포주공 1단지 under-60㎡ 1  21~31 \n",
       "5  서울동남 2013Q1 2013 01 강남구 개포동 개포주공 1단지 under-60㎡ 5  11~20 \n",
       "6  서울동남 2013Q1 2013 01 강남구 개포동 개포주공 1단지 under-60㎡ 3  11~20 \n",
       "7  서울동북 2016Q4 2016 12 중랑구 중화동 동양엔파트     61-85㎡    13 1~10  \n",
       "8  서울동북 2016Q4 2016 12 중랑구 중화동 미영리치타운   61-85㎡    7  21~31 \n",
       "9  서울동북 2016Q4 2016 12 중랑구 중화동 한솔e(B동)     under-60㎡ 7  1~10  \n",
       "10 서울동북 2016Q4 2016 12 중랑구 중화동 한신1차        under-60㎡ 14 1~10  \n",
       "11 서울동북 2016Q4 2016 12 중랑구 중화동 한신1차        61-85㎡    16 1~10  \n",
       "12 서울동북 2016Q4 2016 12 중랑구 중화동 현대휴앤미     86-135㎡   5  1~10  \n",
       "   건축년도 거래금액\n",
       "1  2004     8.90    \n",
       "2  1982     4.94    \n",
       "3  1982     5.05    \n",
       "4  1982     5.40    \n",
       "5  1982     5.04    \n",
       "6  1982     5.90    \n",
       "7  2010     3.98    \n",
       "8  2007     3.70    \n",
       "9  2004     1.65    \n",
       "10 1997     3.20    \n",
       "11 1997     3.85    \n",
       "12 2007     3.20    "
      ]
     },
     "metadata": {},
     "output_type": "display_data"
    },
    {
     "name": "stdout",
     "output_type": "stream",
     "text": [
      "[1] \"결측치 :  0\"\n"
     ]
    }
   ],
   "source": [
    "rbindlist(list(head(preApt),tail(preApt)))\n",
    "print(paste('결측치 : ', sum(is.na(preApt))))"
   ]
  },
  {
   "cell_type": "markdown",
   "metadata": {},
   "source": [
    "- - - \n",
    " 2013년1분기 부터 2016년 4분기까지 데이터(380311 obs, 12 variables)로 전처리 되었다. 결측치는 없으며 전체 원천데이터를 원하는 방향(권역, 분기, 년, 월, 구, 동, 단지명, 전용면적(㎡), 층, 계약일, 건축년도, 거래금액(억)으로 완성되었으며 전체 처리시간은 약17초이다.\n",
    " - - - "
   ]
  },
  {
   "cell_type": "markdown",
   "metadata": {},
   "source": [
    "### ◎데이터 탐색◎"
   ]
  },
  {
   "cell_type": "code",
   "execution_count": 10,
   "metadata": {},
   "outputs": [
    {
     "data": {
      "text/plain": [
       "       권역             분기           년               월        \n",
       " 서울도심: 14551   2015Q1 : 34765   2013: 67701   10     : 38990  \n",
       " 서울동남: 86584   2016Q2 : 34531   2014: 85311   03     : 38804  \n",
       " 서울동북:129287   2016Q3 : 34206   2015:119820   09     : 38168  \n",
       " 서울서남:112746   2015Q2 : 32769   2016:107479   06     : 34428  \n",
       " 서울서북: 37143   2015Q3 : 29577                 04     : 34311  \n",
       "                   2014Q3 : 25135                 08     : 33925  \n",
       "                   (Other):189328                 (Other):161685  \n",
       "       구               동            단지명                전용면적     \n",
       " 노원구 : 37929   상계동 : 15124   Length:380311      61-85㎡   :166948  \n",
       " 강남구 : 24301   중계동 :  8411   Class :character   86-135㎡  : 53943  \n",
       " 송파구 : 24300   신정동 :  8144   Mode  :character   over-135㎡: 16537  \n",
       " 강서구 : 24078   창동   :  7467                      under-60㎡:142883  \n",
       " 성북구 : 19947   구로동 :  7447                                         \n",
       " 강동구 : 19911   봉천동 :  6938                                         \n",
       " (Other):229845   (Other):326780                                         \n",
       "       층           계약일         건축년도            거래금액     \n",
       " 5      : 27745   1~10 :122553   Length:380311      Min.   : 0.070  \n",
       " 4      : 27673   11~20:128009   Class :character   1st Qu.: 2.945  \n",
       " 3      : 27193   21~31: 77973   Mode  :character   Median : 4.000  \n",
       " 2      : 26198   21~28:  7534                      Mean   : 4.817  \n",
       " 6      : 24950   21~30: 42179                      3rd Qu.: 5.650  \n",
       " 7      : 23714   21~29:  2063                      Max.   :79.000  \n",
       " (Other):222838                                                     "
      ]
     },
     "metadata": {},
     "output_type": "display_data"
    }
   ],
   "source": [
    "summary(preApt)"
   ]
  },
  {
   "cell_type": "markdown",
   "metadata": {},
   "source": [
    "- - - \n",
    "- 해마다 약 2만건 씩 상승하고 있으나 2016년에는 거래 건수가 줄었다.\n",
    "- 중,소 형 평수 위주로 거래가 많이 되었다.\n",
    "- 거래금액은 평균 4억8천이며 중앙값은 4억이다. \n",
    "- 10월, 3월, 9월에 거래건수가 가장 많다.\n",
    "- 노원구 상계동이 큰 차이로 거래량이 많다.\n",
    "- 계약일은 부동산 거래 심리에 큰 영향은 없어 보인다.\n",
    "- 5~7층은 대체적으로 중.저층으로 분류되는데 가장 많은 거래가 있었다."
   ]
  },
  {
   "cell_type": "markdown",
   "metadata": {},
   "source": [
    " 먼저 평균이 4억 8천 중앙값이 4억이라는 요약 정보가 있지만 거래금액의 범위가 700만 ~ 79억으로 차이가 매우 크다.-각 행정구, 각 동에 대한 평당가 편차가 있을 것이고, 단지마다 거래금액 차이가 있을 수 있다.- \n",
    "또한 아파트 매매 실거래가 분석에 부적합데이터가 존재 할 것이라 예상 되여(min값 700만원) 정확한 평균값이라 기대하기 어렵다.\n",
    "- - - "
   ]
  },
  {
   "cell_type": "markdown",
   "metadata": {},
   "source": [
    "### 1)OUTLIER 분포 확인\n",
    "###### 2013~2016 전체 거래금액 대상"
   ]
  },
  {
   "cell_type": "code",
   "execution_count": 11,
   "metadata": {
    "scrolled": false
   },
   "outputs": [
    {
     "data": {},
     "metadata": {},
     "output_type": "display_data"
    },
    {
     "data": {
      "image/png": "[encoded data removed]",
      "text/plain": [
       "plot without title"
      ]
     },
     "metadata": {},
     "output_type": "display_data"
    }
   ],
   "source": [
    "ggplot(preApt, aes(x = 1, y = (거래금액))) + \n",
    "  geom_boxplot(width=0.1, outlier.size=2, outlier.shape=16, outlier.colour=\"red\") + \n",
    "  scale_x_continuous(breaks = NULL) + \n",
    "  theme(axis.title.x = element_blank()) + \n",
    "  facet_wrap(~구,scale='free_y', ncol=3)+\n",
    "  coord_flip() +\n",
    "  ggtitle(\"OUTLIER\")"
   ]
  },
  {
   "cell_type": "markdown",
   "metadata": {},
   "source": [
    "- - - \n",
    "* 서울의 각 행정구 중에서 눈에 띄게 OUTLIER를 가지고 있는 지역은 용산구, 강남구, 성동구이다. \n",
    "* 40억 이상을 호가하는 아파트 단지가 있고 평균에 상당한 영향을 미칠 것이라 예상된다. \n",
    "* 특정한 구를 제외하면 전체적으로 10억미만에서 금액이 형성되어있고  10억의 절반에서 왼쪽으로 치우쳐있음을 확인 할 수 있다. \n",
    "* 극단치를 띄고 있는 데이터들은 어떤 데이터인지 확인해 볼 필요가 있다.\n",
    "- - - "
   ]
  },
  {
   "cell_type": "markdown",
   "metadata": {},
   "source": [
    "### 2)첨도 왜도\n",
    "###### 2013~2016 구별 전체 거래금액 대상\n",
    "\n",
    "- 각 행정구 마다 첨도 왜도값을 구해 평균과 얼마나 떨어 져있으며, 분포가 치우쳐 있는지 확인한다."
   ]
  },
  {
   "cell_type": "code",
   "execution_count": 12,
   "metadata": {},
   "outputs": [],
   "source": [
    "#구 별로 그룹을 나누어 왜도, 첨도 값을 계산 후 조인 한다.\n",
    "skku <- merge(preApt[, .(sk = skewness(거래금액)), by = c('구')],preApt[, .(ku = kurtosis(거래금액)), by = c('구')],\n",
    "              by = c('구'))"
   ]
  },
  {
   "cell_type": "code",
   "execution_count": 13,
   "metadata": {
    "scrolled": true
   },
   "outputs": [
    {
     "data": {
      "text/html": [
       "<table>\n",
       "<thead><tr><th scope=col>구</th><th scope=col>sk</th><th scope=col>ku</th></tr></thead>\n",
       "<tbody>\n",
       "\t<tr><td>성동구     </td><td> 8.13459802</td><td>90.0829670 </td></tr>\n",
       "\t<tr><td>서대문구   </td><td> 3.47142215</td><td>62.3556755 </td></tr>\n",
       "\t<tr><td>용산구     </td><td> 4.39408497</td><td>29.0236873 </td></tr>\n",
       "\t<tr><td>중구       </td><td> 3.28687515</td><td>24.3570072 </td></tr>\n",
       "\t<tr><td>마포구     </td><td> 2.39304550</td><td> 8.7814896 </td></tr>\n",
       "\t<tr><td>강남구     </td><td> 2.09079166</td><td> 8.2899641 </td></tr>\n",
       "\t<tr><td>영등포구   </td><td> 2.02141139</td><td> 7.2494391 </td></tr>\n",
       "\t<tr><td>동작구     </td><td> 0.88919078</td><td> 6.4980638 </td></tr>\n",
       "\t<tr><td>중랑구     </td><td> 0.99250112</td><td> 5.7229200 </td></tr>\n",
       "\t<tr><td>구로구     </td><td> 1.04103993</td><td> 3.8994449 </td></tr>\n",
       "\t<tr><td>종로구     </td><td> 1.67293740</td><td> 3.5122707 </td></tr>\n",
       "\t<tr><td>서초구     </td><td> 1.53555550</td><td> 3.2718090 </td></tr>\n",
       "\t<tr><td>광진구     </td><td> 1.37934077</td><td> 3.2157362 </td></tr>\n",
       "\t<tr><td>양천구     </td><td> 1.45780235</td><td> 2.8304234 </td></tr>\n",
       "\t<tr><td>성북구     </td><td> 0.76535975</td><td> 2.2672748 </td></tr>\n",
       "\t<tr><td>노원구     </td><td> 1.05528252</td><td> 1.1422938 </td></tr>\n",
       "\t<tr><td>강동구     </td><td> 0.65772114</td><td> 1.1390047 </td></tr>\n",
       "\t<tr><td>도봉구     </td><td> 0.86797536</td><td> 0.9965334 </td></tr>\n",
       "\t<tr><td>금천구     </td><td> 0.42752412</td><td> 0.9130894 </td></tr>\n",
       "\t<tr><td>동대문구   </td><td> 0.18620371</td><td> 0.8161823 </td></tr>\n",
       "\t<tr><td>송파구     </td><td> 0.79957267</td><td> 0.7782659 </td></tr>\n",
       "\t<tr><td>강서구     </td><td> 0.72734518</td><td> 0.5764902 </td></tr>\n",
       "\t<tr><td>은평구     </td><td> 0.57361782</td><td> 0.4194392 </td></tr>\n",
       "\t<tr><td>강북구     </td><td> 0.12463669</td><td> 0.1670199 </td></tr>\n",
       "\t<tr><td>관악구     </td><td>-0.06768021</td><td> 0.1482543 </td></tr>\n",
       "</tbody>\n",
       "</table>\n"
      ],
      "text/latex": [
       "\\begin{tabular}{r|lll}\n",
       " 구 & sk & ku\\\\\n",
       "\\hline\n",
       "\t 성동구      &  8.13459802 & 90.0829670 \\\\\n",
       "\t 서대문구    &  3.47142215 & 62.3556755 \\\\\n",
       "\t 용산구      &  4.39408497 & 29.0236873 \\\\\n",
       "\t 중구        &  3.28687515 & 24.3570072 \\\\\n",
       "\t 마포구      &  2.39304550 &  8.7814896 \\\\\n",
       "\t 강남구      &  2.09079166 &  8.2899641 \\\\\n",
       "\t 영등포구    &  2.02141139 &  7.2494391 \\\\\n",
       "\t 동작구      &  0.88919078 &  6.4980638 \\\\\n",
       "\t 중랑구      &  0.99250112 &  5.7229200 \\\\\n",
       "\t 구로구      &  1.04103993 &  3.8994449 \\\\\n",
       "\t 종로구      &  1.67293740 &  3.5122707 \\\\\n",
       "\t 서초구      &  1.53555550 &  3.2718090 \\\\\n",
       "\t 광진구      &  1.37934077 &  3.2157362 \\\\\n",
       "\t 양천구      &  1.45780235 &  2.8304234 \\\\\n",
       "\t 성북구      &  0.76535975 &  2.2672748 \\\\\n",
       "\t 노원구      &  1.05528252 &  1.1422938 \\\\\n",
       "\t 강동구      &  0.65772114 &  1.1390047 \\\\\n",
       "\t 도봉구      &  0.86797536 &  0.9965334 \\\\\n",
       "\t 금천구      &  0.42752412 &  0.9130894 \\\\\n",
       "\t 동대문구    &  0.18620371 &  0.8161823 \\\\\n",
       "\t 송파구      &  0.79957267 &  0.7782659 \\\\\n",
       "\t 강서구      &  0.72734518 &  0.5764902 \\\\\n",
       "\t 은평구      &  0.57361782 &  0.4194392 \\\\\n",
       "\t 강북구      &  0.12463669 &  0.1670199 \\\\\n",
       "\t 관악구      & -0.06768021 &  0.1482543 \\\\\n",
       "\\end{tabular}\n"
      ],
      "text/markdown": [
       "\n",
       "구 | sk | ku | \n",
       "|---|---|---|---|---|---|---|---|---|---|---|---|---|---|---|---|---|---|---|---|---|---|---|---|---|\n",
       "| 성동구      |  8.13459802 | 90.0829670  | \n",
       "| 서대문구    |  3.47142215 | 62.3556755  | \n",
       "| 용산구      |  4.39408497 | 29.0236873  | \n",
       "| 중구        |  3.28687515 | 24.3570072  | \n",
       "| 마포구      |  2.39304550 |  8.7814896  | \n",
       "| 강남구      |  2.09079166 |  8.2899641  | \n",
       "| 영등포구    |  2.02141139 |  7.2494391  | \n",
       "| 동작구      |  0.88919078 |  6.4980638  | \n",
       "| 중랑구      |  0.99250112 |  5.7229200  | \n",
       "| 구로구      |  1.04103993 |  3.8994449  | \n",
       "| 종로구      |  1.67293740 |  3.5122707  | \n",
       "| 서초구      |  1.53555550 |  3.2718090  | \n",
       "| 광진구      |  1.37934077 |  3.2157362  | \n",
       "| 양천구      |  1.45780235 |  2.8304234  | \n",
       "| 성북구      |  0.76535975 |  2.2672748  | \n",
       "| 노원구      |  1.05528252 |  1.1422938  | \n",
       "| 강동구      |  0.65772114 |  1.1390047  | \n",
       "| 도봉구      |  0.86797536 |  0.9965334  | \n",
       "| 금천구      |  0.42752412 |  0.9130894  | \n",
       "| 동대문구    |  0.18620371 |  0.8161823  | \n",
       "| 송파구      |  0.79957267 |  0.7782659  | \n",
       "| 강서구      |  0.72734518 |  0.5764902  | \n",
       "| 은평구      |  0.57361782 |  0.4194392  | \n",
       "| 강북구      |  0.12463669 |  0.1670199  | \n",
       "| 관악구      | -0.06768021 |  0.1482543  | \n",
       "\n",
       "\n"
      ],
      "text/plain": [
       "   구       sk          ku        \n",
       "1  성동구    8.13459802 90.0829670\n",
       "2  서대문구  3.47142215 62.3556755\n",
       "3  용산구    4.39408497 29.0236873\n",
       "4  중구      3.28687515 24.3570072\n",
       "5  마포구    2.39304550  8.7814896\n",
       "6  강남구    2.09079166  8.2899641\n",
       "7  영등포구  2.02141139  7.2494391\n",
       "8  동작구    0.88919078  6.4980638\n",
       "9  중랑구    0.99250112  5.7229200\n",
       "10 구로구    1.04103993  3.8994449\n",
       "11 종로구    1.67293740  3.5122707\n",
       "12 서초구    1.53555550  3.2718090\n",
       "13 광진구    1.37934077  3.2157362\n",
       "14 양천구    1.45780235  2.8304234\n",
       "15 성북구    0.76535975  2.2672748\n",
       "16 노원구    1.05528252  1.1422938\n",
       "17 강동구    0.65772114  1.1390047\n",
       "18 도봉구    0.86797536  0.9965334\n",
       "19 금천구    0.42752412  0.9130894\n",
       "20 동대문구  0.18620371  0.8161823\n",
       "21 송파구    0.79957267  0.7782659\n",
       "22 강서구    0.72734518  0.5764902\n",
       "23 은평구    0.57361782  0.4194392\n",
       "24 강북구    0.12463669  0.1670199\n",
       "25 관악구   -0.06768021  0.1482543"
      ]
     },
     "metadata": {},
     "output_type": "display_data"
    }
   ],
   "source": [
    "skku[order(-ku)]"
   ]
  },
  {
   "cell_type": "markdown",
   "metadata": {},
   "source": [
    "--- \n",
    "BOXPLOT에서 확인 할 수 있듯이 **성동구, 서대문구 용산구 중구 등이 평균가 보다 멀리 떨어진 거래량이 많았음을 확인 할 수 있다.**\n",
    "대부분 양의 왜도값을 가지고 있어 평균보다 중앙값이 작다. \n",
    "실거래의 분포는 여러 요인에 의해 분포가 다양하게 형성되어있음을 예상 할 수 있다.  \n",
    "다음 분석에서는 **년, 구, 전용면적별로 그룹화하여 보다 분포에 맞는 대표값을 찾아 분석 하도록 한다.**\n",
    "-- - "
   ]
  },
  {
   "cell_type": "markdown",
   "metadata": {},
   "source": [
    "## 3)이상치, 극단치에 대한 사실 분석\n",
    "#### 데이터 셋 분류 년도 / 구 /  전용면적(60이하, 61~85, 86~135, 135이상) 각 분류에 맞게 IQR값을 구한다.\n",
    "- 이상치와 극이상치 데이터를 비교 분석한다."
   ]
  },
  {
   "cell_type": "markdown",
   "metadata": {},
   "source": [
    "### Inter Quartile range (IQR)\n",
    "![iqr](https://user-images.githubusercontent.com/30791788/36073087-d183f274-0f22-11e8-89c1-cb0113f8d1ad.JPG)\n",
    "- - - \n",
    "- 사분위수 Q3에서 Q1값을 뺀 값을 의미한다. \n",
    "whisker에 해당하는 값까지는 이상치로 분류하지 않는다. 보통 그 값은 Q3 + IQR * (1.5 or 3), Q1 - IQR * (1.5 or 3)로 범위를 정한다.\n",
    "- 정확한 분류를 위해 년, 구, 전용면적 단위로 해당 값을 찾아 비교한다. \n",
    "- 인정 범위에 해당 하지 않는 실거래 데이터 값을 찾아 분석한다.\n",
    "- - - "
   ]
  },
  {
   "cell_type": "code",
   "execution_count": 14,
   "metadata": {},
   "outputs": [],
   "source": [
    "#데이터를 입력 받아 입력받은 배수 만큼 IQR을 구하여 하나의 data.table로 만드는 함수\n",
    "#dt : 입력 데이터\n",
    "#prd : 배수(1.5 or 3)\n",
    "#... : 사분위수를 구할 그룹\n",
    "\n",
    "preApt_IQR <- function(dt, prd, ...){\n",
    "  sel <- c(...) #사분위수를 구할 그룹\n",
    "  QQ  <- dt[, .(QQ = quantile(거래금액)[c(2,4)]), by = sel] #사분위수에서 Q1,Q3정보만 추출\n",
    "  IQR <- dt[, .(IQR = IQR(거래금액) * prd), by = sel]       #해당 그룹의 IQR값을 구하여 prd값을 곱한다.\n",
    "  mergTable <- merge(QQ,IQR, by = sel)                      #쉬운 연산을 위하여 QQ & IQR table 조인\n",
    "  QQIQR <- mergTable[,ifelse(QQ == min(QQ), QQ - IQR, QQ + IQR),by = sel]#QQ 테이블(Q1,Q2)에서 최소값이면 계산된 IQR빼고 아니면 더한다.: 해당그룹에서 Q1과 Q3값만 있기 때문.\n",
    "  \n",
    "  return(merge(merge(dt, QQIQR[,.(IQRMIN = min(V1)),by = sel], by = sel),\n",
    "               QQIQR[,.(IQRMAX = max(V1)),by = sel], by = sel))  #입력 받은 데이터 셋에 계산된 이상치 범위 값(min,max) 입력\n",
    "}\n"
   ]
  },
  {
   "cell_type": "markdown",
   "metadata": {},
   "source": [
    "### ⊙IQR범위를 적용한 테이블 생성⊙\n",
    "- 년, 구, 전용면적별로 계산된 IQR계산값을 효율적으로 계산하기위한 작업\n",
    "- 년, 구, 전용면적별 IQRMIN과 IQRMAX값을 구하여 전처리 된 테이블(preApt)에 조인 시킨다.\n",
    "- IQR * 1.5배 IQRMIN,IQRMAX\n",
    "- IQR * 3배 IQRMIN3, IQRMAX3"
   ]
  },
  {
   "cell_type": "code",
   "execution_count": 15,
   "metadata": {},
   "outputs": [],
   "source": [
    "#preApt_IQR로 정의 된 함수를 이용하여 각 배수 마다 1.5배 3배를 적용한 테이블을 하나의 테이블로 합치는 작업\n",
    "IQR <-  preApt_IQR(preApt, 1.5,'년','구','전용면적')  %>% \n",
    "        .[,c('IQRMIN3','IQRMAX3') := preApt_IQR(preApt, 3,'년','구','전용면적')[,c('IQRMIN','IQRMAX')]]\n"
   ]
  },
  {
   "cell_type": "code",
   "execution_count": 16,
   "metadata": {
    "scrolled": false
   },
   "outputs": [
    {
     "data": {
      "text/html": [
       "<table>\n",
       "<thead><tr><th scope=col>년</th><th scope=col>구</th><th scope=col>전용면적</th><th scope=col>권역</th><th scope=col>분기</th><th scope=col>월</th><th scope=col>동</th><th scope=col>단지명</th><th scope=col>층</th><th scope=col>계약일</th><th scope=col>건축년도</th><th scope=col>거래금액</th><th scope=col>IQRMIN</th><th scope=col>IQRMAX</th><th scope=col>IQRMIN3</th><th scope=col>IQRMAX3</th></tr></thead>\n",
       "<tbody>\n",
       "\t<tr><td>2013          </td><td>강남구        </td><td>61-85㎡       </td><td>서울동남      </td><td>2013Q1        </td><td>01            </td><td>개포동        </td><td>개포주공 5단지</td><td>8             </td><td>21~31         </td><td>1983          </td><td>6.00          </td><td>2.725         </td><td>12.525        </td><td>-0.95         </td><td>16.2          </td></tr>\n",
       "\t<tr><td>2013          </td><td>강남구        </td><td>61-85㎡       </td><td>서울동남      </td><td>2013Q1        </td><td>01            </td><td>개포동        </td><td>개포주공 6단지</td><td>6             </td><td>1~10          </td><td>1983          </td><td>6.75          </td><td>2.725         </td><td>12.525        </td><td>-0.95         </td><td>16.2          </td></tr>\n",
       "\t<tr><td>2013          </td><td>강남구        </td><td>61-85㎡       </td><td>서울동남      </td><td>2013Q1        </td><td>01            </td><td>개포동        </td><td>개포주공 6단지</td><td>13            </td><td>21~31         </td><td>1983          </td><td>7.15          </td><td>2.725         </td><td>12.525        </td><td>-0.95         </td><td>16.2          </td></tr>\n",
       "\t<tr><td>2013          </td><td>강남구        </td><td>61-85㎡       </td><td>서울동남      </td><td>2013Q1        </td><td>01            </td><td>개포동        </td><td>개포주공 6단지</td><td>6             </td><td>21~31         </td><td>1983          </td><td>8.00          </td><td>2.725         </td><td>12.525        </td><td>-0.95         </td><td>16.2          </td></tr>\n",
       "\t<tr><td>2013          </td><td>강남구        </td><td>61-85㎡       </td><td>서울동남      </td><td>2013Q1        </td><td>01            </td><td>개포동        </td><td>개포주공 7단지</td><td>10            </td><td>21~31         </td><td>1983          </td><td>7.10          </td><td>2.725         </td><td>12.525        </td><td>-0.95         </td><td>16.2          </td></tr>\n",
       "</tbody>\n",
       "</table>\n"
      ],
      "text/latex": [
       "\\begin{tabular}{r|llllllllllllllll}\n",
       " 년 & 구 & 전용면적 & 권역 & 분기 & 월 & 동 & 단지명 & 층 & 계약일 & 건축년도 & 거래금액 & IQRMIN & IQRMAX & IQRMIN3 & IQRMAX3\\\\\n",
       "\\hline\n",
       "\t 2013                   & 강남구                 & 61-85㎡                & 서울동남               & 2013Q1                 & 01                     & 개포동                 & 개포주공 5단지         & 8                      & 21\\textasciitilde{}31 & 1983                   & 6.00                   & 2.725                  & 12.525                 & -0.95                  & 16.2                  \\\\\n",
       "\t 2013                   & 강남구                 & 61-85㎡                & 서울동남               & 2013Q1                 & 01                     & 개포동                 & 개포주공 6단지         & 6                      & 1\\textasciitilde{}10  & 1983                   & 6.75                   & 2.725                  & 12.525                 & -0.95                  & 16.2                  \\\\\n",
       "\t 2013                   & 강남구                 & 61-85㎡                & 서울동남               & 2013Q1                 & 01                     & 개포동                 & 개포주공 6단지         & 13                     & 21\\textasciitilde{}31 & 1983                   & 7.15                   & 2.725                  & 12.525                 & -0.95                  & 16.2                  \\\\\n",
       "\t 2013                   & 강남구                 & 61-85㎡                & 서울동남               & 2013Q1                 & 01                     & 개포동                 & 개포주공 6단지         & 6                      & 21\\textasciitilde{}31 & 1983                   & 8.00                   & 2.725                  & 12.525                 & -0.95                  & 16.2                  \\\\\n",
       "\t 2013                   & 강남구                 & 61-85㎡                & 서울동남               & 2013Q1                 & 01                     & 개포동                 & 개포주공 7단지         & 10                     & 21\\textasciitilde{}31 & 1983                   & 7.10                   & 2.725                  & 12.525                 & -0.95                  & 16.2                  \\\\\n",
       "\\end{tabular}\n"
      ],
      "text/markdown": [
       "\n",
       "년 | 구 | 전용면적 | 권역 | 분기 | 월 | 동 | 단지명 | 층 | 계약일 | 건축년도 | 거래금액 | IQRMIN | IQRMAX | IQRMIN3 | IQRMAX3 | \n",
       "|---|---|---|---|---|\n",
       "| 2013           | 강남구         | 61-85㎡        | 서울동남       | 2013Q1         | 01             | 개포동         | 개포주공 5단지 | 8              | 21~31          | 1983           | 6.00           | 2.725          | 12.525         | -0.95          | 16.2           | \n",
       "| 2013           | 강남구         | 61-85㎡        | 서울동남       | 2013Q1         | 01             | 개포동         | 개포주공 6단지 | 6              | 1~10           | 1983           | 6.75           | 2.725          | 12.525         | -0.95          | 16.2           | \n",
       "| 2013           | 강남구         | 61-85㎡        | 서울동남       | 2013Q1         | 01             | 개포동         | 개포주공 6단지 | 13             | 21~31          | 1983           | 7.15           | 2.725          | 12.525         | -0.95          | 16.2           | \n",
       "| 2013           | 강남구         | 61-85㎡        | 서울동남       | 2013Q1         | 01             | 개포동         | 개포주공 6단지 | 6              | 21~31          | 1983           | 8.00           | 2.725          | 12.525         | -0.95          | 16.2           | \n",
       "| 2013           | 강남구         | 61-85㎡        | 서울동남       | 2013Q1         | 01             | 개포동         | 개포주공 7단지 | 10             | 21~31          | 1983           | 7.10           | 2.725          | 12.525         | -0.95          | 16.2           | \n",
       "\n",
       "\n"
      ],
      "text/plain": [
       "  년   구     전용면적 권역     분기   월 동     단지명         층 계약일\n",
       "1 2013 강남구 61-85㎡  서울동남 2013Q1 01 개포동 개포주공 5단지 8  21~31 \n",
       "2 2013 강남구 61-85㎡  서울동남 2013Q1 01 개포동 개포주공 6단지 6  1~10  \n",
       "3 2013 강남구 61-85㎡  서울동남 2013Q1 01 개포동 개포주공 6단지 13 21~31 \n",
       "4 2013 강남구 61-85㎡  서울동남 2013Q1 01 개포동 개포주공 6단지 6  21~31 \n",
       "5 2013 강남구 61-85㎡  서울동남 2013Q1 01 개포동 개포주공 7단지 10 21~31 \n",
       "  건축년도 거래금액 IQRMIN IQRMAX IQRMIN3 IQRMAX3\n",
       "1 1983     6.00     2.725  12.525 -0.95   16.2   \n",
       "2 1983     6.75     2.725  12.525 -0.95   16.2   \n",
       "3 1983     7.15     2.725  12.525 -0.95   16.2   \n",
       "4 1983     8.00     2.725  12.525 -0.95   16.2   \n",
       "5 1983     7.10     2.725  12.525 -0.95   16.2   "
      ]
     },
     "metadata": {},
     "output_type": "display_data"
    }
   ],
   "source": [
    "head(IQR,5)   #IQR*1.5의 값과 IQR * 3의 값을 (년, 구, 전용면적)그룹으로 묶어 계산한 값을 하나로 합친 테이블 생성."
   ]
  },
  {
   "cell_type": "markdown",
   "metadata": {},
   "source": [
    "#### ⊙IQR * 1.5배 사이에 있는 데이터 값,  해당 하는 단지 확인(이상치 데이터)⊙"
   ]
  },
  {
   "cell_type": "code",
   "execution_count": 17,
   "metadata": {},
   "outputs": [],
   "source": [
    "#이상치에 해당하는 데이터 추출\n",
    "outlierset1.5 <- IQR[(거래금액 <= IQRMIN & 거래금액 >= IQRMIN3) | (거래금액 >= IQRMAX & 거래금액 <= IQRMAX3)] "
   ]
  },
  {
   "cell_type": "code",
   "execution_count": 18,
   "metadata": {},
   "outputs": [
    {
     "data": {
      "text/html": [
       "<table>\n",
       "<thead><tr><th scope=col>년</th><th scope=col>N</th></tr></thead>\n",
       "<tbody>\n",
       "\t<tr><td>2013</td><td> 917</td></tr>\n",
       "\t<tr><td>2014</td><td>1176</td></tr>\n",
       "\t<tr><td>2015</td><td>1656</td></tr>\n",
       "\t<tr><td>2016</td><td>1276</td></tr>\n",
       "</tbody>\n",
       "</table>\n"
      ],
      "text/latex": [
       "\\begin{tabular}{r|ll}\n",
       " 년 & N\\\\\n",
       "\\hline\n",
       "\t 2013 &  917\\\\\n",
       "\t 2014 & 1176\\\\\n",
       "\t 2015 & 1656\\\\\n",
       "\t 2016 & 1276\\\\\n",
       "\\end{tabular}\n"
      ],
      "text/markdown": [
       "\n",
       "년 | N | \n",
       "|---|---|---|---|\n",
       "| 2013 |  917 | \n",
       "| 2014 | 1176 | \n",
       "| 2015 | 1656 | \n",
       "| 2016 | 1276 | \n",
       "\n",
       "\n"
      ],
      "text/plain": [
       "  년   N   \n",
       "1 2013  917\n",
       "2 2014 1176\n",
       "3 2015 1656\n",
       "4 2016 1276"
      ]
     },
     "metadata": {},
     "output_type": "display_data"
    }
   ],
   "source": [
    "#년도별 이상치 건수 확인\n",
    "outlierset1.5[,.N, by = c('년')]"
   ]
  },
  {
   "cell_type": "code",
   "execution_count": 19,
   "metadata": {},
   "outputs": [
    {
     "name": "stdout",
     "output_type": "stream",
     "text": [
      "*LIF + UIF 건수 :  5025"
     ]
    },
    {
     "data": {
      "text/plain": [
       "\n",
       "  서초구   성동구     중구 영등포구   강서구   금천구   광진구   노원구 \n",
       "     750      388      380      306      296      287      256      251 \n",
       "  동작구 동대문구   구로구   성북구   마포구   강남구   강동구   용산구 \n",
       "     240      221      220      208      172      167      150      145 \n",
       "  강북구   도봉구 서대문구   중랑구   관악구   은평구   송파구   종로구 \n",
       "     126      104      104       92       84       27       23       19 \n",
       "  양천구 \n",
       "       9 "
      ]
     },
     "metadata": {},
     "output_type": "display_data"
    },
    {
     "name": "stdout",
     "output_type": "stream",
     "text": [
      "*총 거래량 대비 이상치 비율"
     ]
    },
    {
     "data": {
      "text/plain": [
       "\n",
       "      중구     금천구     서초구     광진구     성동구     용산구   영등포구 \n",
       "8.21621622 4.42355117 4.15006640 3.38177015 2.78455576 2.05557131 1.86870229 \n",
       "    강북구   동대문구     동작구     마포구     강서구     구로구     성북구 \n",
       "1.73148275 1.65369650 1.54261473 1.23112161 1.22933798 1.12044818 1.04276332 \n",
       "  서대문구     강동구     중랑구     관악구     강남구     노원구     종로구 \n",
       "0.98438239 0.75335242 0.73723856 0.69278351 0.68721452 0.66176277 0.66155989 \n",
       "    도봉구     은평구     송파구     양천구 \n",
       "0.61952701 0.21416673 0.09465021 0.04868286 "
      ]
     },
     "metadata": {},
     "output_type": "display_data"
    }
   ],
   "source": [
    "cat(paste(\"*LIF + UIF 건수 : \", length(outlierset1.5$거래금액)))\n",
    "sort(table(outlierset1.5$구), decreasing = T)\n",
    "cat('*총 거래량 대비 이상치 비율')\n",
    "sort(table(outlierset1.5$구) / table(preApt$구) * 100, decreasing = T)"
   ]
  },
  {
   "cell_type": "markdown",
   "metadata": {},
   "source": [
    "###### IQR에 1.5배를 하여 계산한 각 행정구마다 이상치에 해당하는 건수이다. 각 행정구마다 총 거래 건수에서의 비율을 같이 확인한다."
   ]
  },
  {
   "cell_type": "code",
   "execution_count": 20,
   "metadata": {},
   "outputs": [
    {
     "name": "stdout",
     "output_type": "stream",
     "text": [
      "[1] \"UIF 건수 :  3932\"\n"
     ]
    },
    {
     "data": {
      "text/html": [
       "<table>\n",
       "<thead><tr><th scope=col>구</th><th scope=col>단지명</th><th scope=col>N</th></tr></thead>\n",
       "<tbody>\n",
       "\t<tr><td>서초구            </td><td>래미안퍼스티지    </td><td>277               </td></tr>\n",
       "\t<tr><td>서초구            </td><td>반포자이          </td><td>276               </td></tr>\n",
       "\t<tr><td>금천구            </td><td>남서울힐스테이트  </td><td>232               </td></tr>\n",
       "\t<tr><td>성동구            </td><td>래미안 옥수 리버젠</td><td>169               </td></tr>\n",
       "\t<tr><td>서초구            </td><td>반포 주공1단지    </td><td>132               </td></tr>\n",
       "</tbody>\n",
       "</table>\n"
      ],
      "text/latex": [
       "\\begin{tabular}{r|lll}\n",
       " 구 & 단지명 & N\\\\\n",
       "\\hline\n",
       "\t 서초구             & 래미안퍼스티지     & 277               \\\\\n",
       "\t 서초구             & 반포자이           & 276               \\\\\n",
       "\t 금천구             & 남서울힐스테이트   & 232               \\\\\n",
       "\t 성동구             & 래미안 옥수 리버젠 & 169               \\\\\n",
       "\t 서초구             & 반포 주공1단지     & 132               \\\\\n",
       "\\end{tabular}\n"
      ],
      "text/markdown": [
       "\n",
       "구 | 단지명 | N | \n",
       "|---|---|---|---|---|\n",
       "| 서초구             | 래미안퍼스티지     | 277                | \n",
       "| 서초구             | 반포자이           | 276                | \n",
       "| 금천구             | 남서울힐스테이트   | 232                | \n",
       "| 성동구             | 래미안 옥수 리버젠 | 169                | \n",
       "| 서초구             | 반포 주공1단지     | 132                | \n",
       "\n",
       "\n"
      ],
      "text/plain": [
       "  구     단지명             N  \n",
       "1 서초구 래미안퍼스티지     277\n",
       "2 서초구 반포자이           276\n",
       "3 금천구 남서울힐스테이트   232\n",
       "4 성동구 래미안 옥수 리버젠 169\n",
       "5 서초구 반포 주공1단지     132"
      ]
     },
     "metadata": {},
     "output_type": "display_data"
    }
   ],
   "source": [
    "upiF <- outlierset1.5[거래금액 >= IQRMAX, .N, by = c('구','단지명')][order(-N)] \n",
    "print(paste(\"UIF 건수 : \", sum(upiF$N)))\n",
    "head(upiF,5)"
   ]
  },
  {
   "cell_type": "code",
   "execution_count": 21,
   "metadata": {
    "scrolled": true
   },
   "outputs": [
    {
     "name": "stdout",
     "output_type": "stream",
     "text": [
      "[1] \"LIF 건수 :  1093\"\n"
     ]
    },
    {
     "data": {
      "text/html": [
       "<table>\n",
       "<thead><tr><th scope=col>구</th><th scope=col>단지명</th><th scope=col>N</th></tr></thead>\n",
       "<tbody>\n",
       "\t<tr><td>성북구      </td><td>대광        </td><td>59          </td></tr>\n",
       "\t<tr><td>광진구      </td><td>광진코지웰  </td><td>41          </td></tr>\n",
       "\t<tr><td>성동구      </td><td>삼성홈타운  </td><td>39          </td></tr>\n",
       "\t<tr><td>동작구      </td><td>씨티아모리움</td><td>33          </td></tr>\n",
       "\t<tr><td>마포구      </td><td>비체힐리버뷰</td><td>33          </td></tr>\n",
       "</tbody>\n",
       "</table>\n"
      ],
      "text/latex": [
       "\\begin{tabular}{r|lll}\n",
       " 구 & 단지명 & N\\\\\n",
       "\\hline\n",
       "\t 성북구       & 대광         & 59          \\\\\n",
       "\t 광진구       & 광진코지웰   & 41          \\\\\n",
       "\t 성동구       & 삼성홈타운   & 39          \\\\\n",
       "\t 동작구       & 씨티아모리움 & 33          \\\\\n",
       "\t 마포구       & 비체힐리버뷰 & 33          \\\\\n",
       "\\end{tabular}\n"
      ],
      "text/markdown": [
       "\n",
       "구 | 단지명 | N | \n",
       "|---|---|---|---|---|\n",
       "| 성북구       | 대광         | 59           | \n",
       "| 광진구       | 광진코지웰   | 41           | \n",
       "| 성동구       | 삼성홈타운   | 39           | \n",
       "| 동작구       | 씨티아모리움 | 33           | \n",
       "| 마포구       | 비체힐리버뷰 | 33           | \n",
       "\n",
       "\n"
      ],
      "text/plain": [
       "  구     단지명       N \n",
       "1 성북구 대광         59\n",
       "2 광진구 광진코지웰   41\n",
       "3 성동구 삼성홈타운   39\n",
       "4 동작구 씨티아모리움 33\n",
       "5 마포구 비체힐리버뷰 33"
      ]
     },
     "metadata": {},
     "output_type": "display_data"
    }
   ],
   "source": [
    "downiF <- outlierset1.5[거래금액 <= IQRMIN, .N, by = c('구','단지명')][order(-N)]\n",
    "print(paste(\"LIF 건수 : \", sum(downiF$N)))\n",
    "head(downiF,5)  "
   ]
  },
  {
   "cell_type": "markdown",
   "metadata": {},
   "source": [
    "###### 첨도 왜도값의 큰 치우침을 보이는 행정구의 이상치에 해당하는 데이터는 몇몇 단지들이 차지하고 있음 알 수 있다."
   ]
  },
  {
   "cell_type": "markdown",
   "metadata": {},
   "source": [
    "#### ⊙IQR * 3배 사이에 있는 데이터 값,  해당 하는 단지 확인(극 이상치)⊙"
   ]
  },
  {
   "cell_type": "code",
   "execution_count": 22,
   "metadata": {},
   "outputs": [],
   "source": [
    "# 극 이상치 데이터 추출\n",
    "outlierset3 <- IQR[거래금액 <= IQRMIN3 | 거래금액 >= IQRMAX3] "
   ]
  },
  {
   "cell_type": "code",
   "execution_count": 23,
   "metadata": {},
   "outputs": [
    {
     "data": {
      "text/html": [
       "<table>\n",
       "<thead><tr><th scope=col>년</th><th scope=col>N</th></tr></thead>\n",
       "<tbody>\n",
       "\t<tr><td>2013</td><td>51  </td></tr>\n",
       "\t<tr><td>2014</td><td>65  </td></tr>\n",
       "\t<tr><td>2015</td><td>73  </td></tr>\n",
       "\t<tr><td>2016</td><td>56  </td></tr>\n",
       "</tbody>\n",
       "</table>\n"
      ],
      "text/latex": [
       "\\begin{tabular}{r|ll}\n",
       " 년 & N\\\\\n",
       "\\hline\n",
       "\t 2013 & 51  \\\\\n",
       "\t 2014 & 65  \\\\\n",
       "\t 2015 & 73  \\\\\n",
       "\t 2016 & 56  \\\\\n",
       "\\end{tabular}\n"
      ],
      "text/markdown": [
       "\n",
       "년 | N | \n",
       "|---|---|---|---|\n",
       "| 2013 | 51   | \n",
       "| 2014 | 65   | \n",
       "| 2015 | 73   | \n",
       "| 2016 | 56   | \n",
       "\n",
       "\n"
      ],
      "text/plain": [
       "  년   N \n",
       "1 2013 51\n",
       "2 2014 65\n",
       "3 2015 73\n",
       "4 2016 56"
      ]
     },
     "metadata": {},
     "output_type": "display_data"
    }
   ],
   "source": [
    "#년도별 이상치 건수 확인\n",
    "outlierset3[,.N, by = c('년')] "
   ]
  },
  {
   "cell_type": "code",
   "execution_count": 24,
   "metadata": {},
   "outputs": [
    {
     "name": "stdout",
     "output_type": "stream",
     "text": [
      "*LIF + UIF 건수 :  245"
     ]
    },
    {
     "data": {
      "text/plain": [
       "\n",
       "  용산구     중구   성동구   강남구   마포구   성북구 영등포구   강서구 \n",
       "      35       33       23       20       20       20       17       16 \n",
       "서대문구   강북구   광진구   동작구   서초구   관악구   구로구   금천구 \n",
       "      12       11        8        7        5        4        4        4 \n",
       "  종로구   중랑구 동대문구   송파구   강동구   노원구   도봉구   양천구 \n",
       "       2        2        1        1        0        0        0        0 \n",
       "  은평구 \n",
       "       0 "
      ]
     },
     "metadata": {},
     "output_type": "display_data"
    },
    {
     "name": "stdout",
     "output_type": "stream",
     "text": [
      "*총 거래량 대비 이상치 비율"
     ]
    },
    {
     "data": {
      "text/plain": [
       "\n",
       "       중구      용산구      성동구      강북구      마포구    서대문구 \n",
       "0.713513514 0.496172384 0.165063873 0.151161193 0.143153675 0.113582584 \n",
       "     광진구    영등포구      성북구      강남구      종로구      강서구 \n",
       "0.105680317 0.103816794 0.100265704 0.082301140 0.069637883 0.066450702 \n",
       "     금천구      동작구      관악구      서초구      구로구      중랑구 \n",
       "0.061652281 0.044992930 0.032989691 0.027667109 0.020371785 0.016026925 \n",
       "   동대문구      송파구      강동구      노원구      도봉구      양천구 \n",
       "0.007482790 0.004115226 0.000000000 0.000000000 0.000000000 0.000000000 \n",
       "     은평구 \n",
       "0.000000000 "
      ]
     },
     "metadata": {},
     "output_type": "display_data"
    }
   ],
   "source": [
    "cat(paste(\"*LIF + UIF 건수 : \", length(outlierset3$거래금액)))\n",
    "sort(table(outlierset3$구), decreasing = T)\n",
    "cat('*총 거래량 대비 이상치 비율')\n",
    "sort(table(outlierset3$구) / table(preApt$구) * 100, decreasing = T)"
   ]
  },
  {
   "cell_type": "code",
   "execution_count": 25,
   "metadata": {
    "scrolled": true
   },
   "outputs": [
    {
     "name": "stdout",
     "output_type": "stream",
     "text": [
      "[1] \"UOF 건수 :  193\"\n"
     ]
    },
    {
     "data": {
      "text/html": [
       "<table>\n",
       "<thead><tr><th scope=col>구</th><th scope=col>단지명</th><th scope=col>N</th></tr></thead>\n",
       "<tbody>\n",
       "\t<tr><td>용산구              </td><td>한남더힐            </td><td>22                  </td></tr>\n",
       "\t<tr><td>성동구              </td><td>래미안 옥수 리버젠  </td><td>17                  </td></tr>\n",
       "\t<tr><td>영등포구            </td><td>삼부                </td><td>15                  </td></tr>\n",
       "\t<tr><td>용산구              </td><td>래미안첼리투스아파트</td><td>12                  </td></tr>\n",
       "\t<tr><td>성북구              </td><td>코업스타클래스      </td><td> 9                  </td></tr>\n",
       "</tbody>\n",
       "</table>\n"
      ],
      "text/latex": [
       "\\begin{tabular}{r|lll}\n",
       " 구 & 단지명 & N\\\\\n",
       "\\hline\n",
       "\t 용산구               & 한남더힐             & 22                  \\\\\n",
       "\t 성동구               & 래미안 옥수 리버젠   & 17                  \\\\\n",
       "\t 영등포구             & 삼부                 & 15                  \\\\\n",
       "\t 용산구               & 래미안첼리투스아파트 & 12                  \\\\\n",
       "\t 성북구               & 코업스타클래스       &  9                  \\\\\n",
       "\\end{tabular}\n"
      ],
      "text/markdown": [
       "\n",
       "구 | 단지명 | N | \n",
       "|---|---|---|---|---|\n",
       "| 용산구               | 한남더힐             | 22                   | \n",
       "| 성동구               | 래미안 옥수 리버젠   | 17                   | \n",
       "| 영등포구             | 삼부                 | 15                   | \n",
       "| 용산구               | 래미안첼리투스아파트 | 12                   | \n",
       "| 성북구               | 코업스타클래스       |  9                   | \n",
       "\n",
       "\n"
      ],
      "text/plain": [
       "  구       단지명               N \n",
       "1 용산구   한남더힐             22\n",
       "2 성동구   래미안 옥수 리버젠   17\n",
       "3 영등포구 삼부                 15\n",
       "4 용산구   래미안첼리투스아파트 12\n",
       "5 성북구   코업스타클래스        9"
      ]
     },
     "metadata": {},
     "output_type": "display_data"
    }
   ],
   "source": [
    "upoF <- outlierset3[거래금액 >= IQRMAX, .N, by = c('구','단지명')][order(-N)]\n",
    "print(paste(\"UOF 건수 : \", sum(upoF$N)))\n",
    "head(upoF,5)  "
   ]
  },
  {
   "cell_type": "code",
   "execution_count": 26,
   "metadata": {},
   "outputs": [
    {
     "name": "stdout",
     "output_type": "stream",
     "text": [
      "[1] \"LIF 건수 :  52\"\n"
     ]
    },
    {
     "data": {
      "text/html": [
       "<table>\n",
       "<thead><tr><th scope=col>구</th><th scope=col>단지명</th><th scope=col>N</th></tr></thead>\n",
       "<tbody>\n",
       "\t<tr><td>마포구  </td><td>코오롱  </td><td>4       </td></tr>\n",
       "\t<tr><td>성북구  </td><td>대광    </td><td>4       </td></tr>\n",
       "\t<tr><td>중구    </td><td>(372-66)</td><td>4       </td></tr>\n",
       "\t<tr><td>강서구  </td><td>강서뉴  </td><td>3       </td></tr>\n",
       "\t<tr><td>강서구  </td><td>정원    </td><td>3       </td></tr>\n",
       "</tbody>\n",
       "</table>\n"
      ],
      "text/latex": [
       "\\begin{tabular}{r|lll}\n",
       " 구 & 단지명 & N\\\\\n",
       "\\hline\n",
       "\t 마포구   & 코오롱   & 4       \\\\\n",
       "\t 성북구   & 대광     & 4       \\\\\n",
       "\t 중구     & (372-66) & 4       \\\\\n",
       "\t 강서구   & 강서뉴   & 3       \\\\\n",
       "\t 강서구   & 정원     & 3       \\\\\n",
       "\\end{tabular}\n"
      ],
      "text/markdown": [
       "\n",
       "구 | 단지명 | N | \n",
       "|---|---|---|---|---|\n",
       "| 마포구   | 코오롱   | 4        | \n",
       "| 성북구   | 대광     | 4        | \n",
       "| 중구     | (372-66) | 4        | \n",
       "| 강서구   | 강서뉴   | 3        | \n",
       "| 강서구   | 정원     | 3        | \n",
       "\n",
       "\n"
      ],
      "text/plain": [
       "  구     단지명   N\n",
       "1 마포구 코오롱   4\n",
       "2 성북구 대광     4\n",
       "3 중구   (372-66) 4\n",
       "4 강서구 강서뉴   3\n",
       "5 강서구 정원     3"
      ]
     },
     "metadata": {},
     "output_type": "display_data"
    }
   ],
   "source": [
    "downoF <- outlierset3[거래금액 <= IQRMIN, .N, by = c('구','단지명')][order(-N)]\n",
    "print(paste(\"LIF 건수 : \", sum(downoF$N)))\n",
    "head(downoF,5) "
   ]
  },
  {
   "cell_type": "markdown",
   "metadata": {},
   "source": [
    "### 4)거래금액 > IQRMAX : 구평균, 이상치 평균, 극이상치평균, 건수,  차이 비교"
   ]
  },
  {
   "cell_type": "code",
   "execution_count": 58,
   "metadata": {},
   "outputs": [],
   "source": [
    "meanif <- merge(IQR[, .(구평균 = mean(거래금액)), by = '구'], IQR[거래금액 >= IQRMAX, list(이상치건수1.5 = length(거래금액), 이상치평균1.5 = mean(거래금액)), by = '구'],all.x = T, by = '구')\n",
    "meanof <- IQR[거래금액 >= IQRMAX3, list(이상치건수3 = length(거래금액), 이상치평균3 = mean(거래금액)), by = '구']"
   ]
  },
  {
   "cell_type": "code",
   "execution_count": 61,
   "metadata": {
    "scrolled": false
   },
   "outputs": [
    {
     "data": {
      "text/html": [
       "<table>\n",
       "<thead><tr><th scope=col>구</th><th scope=col>구평균</th><th scope=col>이상치건수1.5</th><th scope=col>이상치평균1.5</th><th scope=col>이상치건수3</th><th scope=col>이상치평균3</th><th scope=col>Diff1.5</th><th scope=col>Diff3</th><th scope=col>Diff_이상치</th></tr></thead>\n",
       "<tbody>\n",
       "\t<tr><td>용산구   </td><td>8.181540 </td><td>177      </td><td>25.066018</td><td>35       </td><td>44.485429</td><td>16.884478</td><td>36.303888</td><td>19.419410</td></tr>\n",
       "\t<tr><td>동작구   </td><td>5.031661 </td><td>149      </td><td> 7.410872</td><td> 7       </td><td>22.970757</td><td> 2.379211</td><td>17.939096</td><td>15.559885</td></tr>\n",
       "\t<tr><td>강남구   </td><td>9.427761 </td><td>187      </td><td>33.546783</td><td>20       </td><td>48.727500</td><td>24.119022</td><td>39.299739</td><td>15.180717</td></tr>\n",
       "\t<tr><td>송파구   </td><td>6.802916 </td><td> 24      </td><td>17.558179</td><td> 1       </td><td>32.500000</td><td>10.755264</td><td>25.697084</td><td>14.941821</td></tr>\n",
       "\t<tr><td>성동구   </td><td>5.263481 </td><td>327      </td><td> 9.575385</td><td>23       </td><td>21.106522</td><td> 4.311904</td><td>15.843041</td><td>11.531137</td></tr>\n",
       "\t<tr><td>서대문구 </td><td>3.856787 </td><td> 95      </td><td> 9.004518</td><td>12       </td><td>16.892233</td><td> 5.147731</td><td>13.035447</td><td> 7.887715</td></tr>\n",
       "\t<tr><td>서초구   </td><td>9.458217 </td><td>753      </td><td>15.824745</td><td> 5       </td><td>23.408000</td><td> 6.366528</td><td>13.949783</td><td> 7.583255</td></tr>\n",
       "\t<tr><td>중구     </td><td>5.543990 </td><td>134      </td><td> 9.939159</td><td>19       </td><td>17.320689</td><td> 4.395169</td><td>11.776700</td><td> 7.381531</td></tr>\n",
       "\t<tr><td>강서구   </td><td>3.699352 </td><td>281      </td><td> 6.261742</td><td> 2       </td><td>10.762000</td><td> 2.562390</td><td> 7.062648</td><td> 4.500258</td></tr>\n",
       "\t<tr><td>종로구   </td><td>4.955020 </td><td> 16      </td><td>14.087500</td><td> 2       </td><td>18.500000</td><td> 9.132480</td><td>13.544980</td><td> 4.412500</td></tr>\n",
       "\t<tr><td>마포구   </td><td>5.367831 </td><td>120      </td><td>11.707458</td><td> 3       </td><td>15.233333</td><td> 6.339628</td><td> 9.865503</td><td> 3.525875</td></tr>\n",
       "\t<tr><td>중랑구   </td><td>3.046460 </td><td> 58      </td><td> 5.847843</td><td> 1       </td><td> 8.500000</td><td> 2.801383</td><td> 5.453540</td><td> 2.652157</td></tr>\n",
       "\t<tr><td>광진구   </td><td>5.584050 </td><td>147      </td><td> 8.707381</td><td> 8       </td><td>11.068750</td><td> 3.123331</td><td> 5.484700</td><td> 2.361369</td></tr>\n",
       "\t<tr><td>관악구   </td><td>3.578164 </td><td> 48      </td><td> 6.224271</td><td> 4       </td><td> 8.325000</td><td> 2.646107</td><td> 4.746836</td><td> 2.100729</td></tr>\n",
       "\t<tr><td>동대문구 </td><td>3.721289 </td><td>157      </td><td> 6.510860</td><td> 1       </td><td> 8.250000</td><td> 2.789571</td><td> 4.528711</td><td> 1.739140</td></tr>\n",
       "\t<tr><td>성북구   </td><td>3.847207 </td><td> 80      </td><td> 7.652470</td><td>15       </td><td> 9.234333</td><td> 3.805263</td><td> 5.387126</td><td> 1.581863</td></tr>\n",
       "\t<tr><td>금천구   </td><td>2.804516 </td><td>240      </td><td> 4.710829</td><td> 4       </td><td> 6.025000</td><td> 1.906313</td><td> 3.220484</td><td> 1.314171</td></tr>\n",
       "\t<tr><td>구로구   </td><td>3.344420 </td><td>219      </td><td> 7.450237</td><td> 4       </td><td> 8.692500</td><td> 4.105816</td><td> 5.348080</td><td> 1.242263</td></tr>\n",
       "\t<tr><td>영등포구 </td><td>4.436245 </td><td>310      </td><td> 7.722935</td><td>16       </td><td> 8.490312</td><td> 3.286691</td><td> 4.054068</td><td> 0.767377</td></tr>\n",
       "\t<tr><td>강북구   </td><td>3.316029 </td><td>118      </td><td> 5.529195</td><td>11       </td><td> 6.139091</td><td> 2.213166</td><td> 2.823062</td><td> 0.609896</td></tr>\n",
       "\t<tr><td>강동구   </td><td>4.542627 </td><td>141      </td><td> 8.007816</td><td>NA       </td><td>       NA</td><td> 3.465190</td><td>       NA</td><td>       NA</td></tr>\n",
       "\t<tr><td>노원구   </td><td>2.852322 </td><td>223      </td><td> 5.363493</td><td>NA       </td><td>       NA</td><td> 2.511171</td><td>       NA</td><td>       NA</td></tr>\n",
       "\t<tr><td>도봉구   </td><td>2.766260 </td><td>102      </td><td> 4.338284</td><td>NA       </td><td>       NA</td><td> 1.572025</td><td>       NA</td><td>       NA</td></tr>\n",
       "\t<tr><td>양천구   </td><td>4.890571 </td><td>  7      </td><td>15.178571</td><td>NA       </td><td>       NA</td><td>10.288001</td><td>       NA</td><td>       NA</td></tr>\n",
       "\t<tr><td>은평구   </td><td>3.673136 </td><td> 12      </td><td> 9.920833</td><td>NA       </td><td>       NA</td><td> 6.247697</td><td>       NA</td><td>       NA</td></tr>\n",
       "</tbody>\n",
       "</table>\n"
      ],
      "text/latex": [
       "\\begin{tabular}{r|lllllllll}\n",
       " 구 & 구평균 & 이상치건수1.5 & 이상치평균1.5 & 이상치건수3 & 이상치평균3 & Diff1.5 & Diff3 & Diff\\_이상치\\\\\n",
       "\\hline\n",
       "\t 용산구    & 8.181540  & 177       & 25.066018 & 35        & 44.485429 & 16.884478 & 36.303888 & 19.419410\\\\\n",
       "\t 동작구    & 5.031661  & 149       &  7.410872 &  7        & 22.970757 &  2.379211 & 17.939096 & 15.559885\\\\\n",
       "\t 강남구    & 9.427761  & 187       & 33.546783 & 20        & 48.727500 & 24.119022 & 39.299739 & 15.180717\\\\\n",
       "\t 송파구    & 6.802916  &  24       & 17.558179 &  1        & 32.500000 & 10.755264 & 25.697084 & 14.941821\\\\\n",
       "\t 성동구    & 5.263481  & 327       &  9.575385 & 23        & 21.106522 &  4.311904 & 15.843041 & 11.531137\\\\\n",
       "\t 서대문구  & 3.856787  &  95       &  9.004518 & 12        & 16.892233 &  5.147731 & 13.035447 &  7.887715\\\\\n",
       "\t 서초구    & 9.458217  & 753       & 15.824745 &  5        & 23.408000 &  6.366528 & 13.949783 &  7.583255\\\\\n",
       "\t 중구      & 5.543990  & 134       &  9.939159 & 19        & 17.320689 &  4.395169 & 11.776700 &  7.381531\\\\\n",
       "\t 강서구    & 3.699352  & 281       &  6.261742 &  2        & 10.762000 &  2.562390 &  7.062648 &  4.500258\\\\\n",
       "\t 종로구    & 4.955020  &  16       & 14.087500 &  2        & 18.500000 &  9.132480 & 13.544980 &  4.412500\\\\\n",
       "\t 마포구    & 5.367831  & 120       & 11.707458 &  3        & 15.233333 &  6.339628 &  9.865503 &  3.525875\\\\\n",
       "\t 중랑구    & 3.046460  &  58       &  5.847843 &  1        &  8.500000 &  2.801383 &  5.453540 &  2.652157\\\\\n",
       "\t 광진구    & 5.584050  & 147       &  8.707381 &  8        & 11.068750 &  3.123331 &  5.484700 &  2.361369\\\\\n",
       "\t 관악구    & 3.578164  &  48       &  6.224271 &  4        &  8.325000 &  2.646107 &  4.746836 &  2.100729\\\\\n",
       "\t 동대문구  & 3.721289  & 157       &  6.510860 &  1        &  8.250000 &  2.789571 &  4.528711 &  1.739140\\\\\n",
       "\t 성북구    & 3.847207  &  80       &  7.652470 & 15        &  9.234333 &  3.805263 &  5.387126 &  1.581863\\\\\n",
       "\t 금천구    & 2.804516  & 240       &  4.710829 &  4        &  6.025000 &  1.906313 &  3.220484 &  1.314171\\\\\n",
       "\t 구로구    & 3.344420  & 219       &  7.450237 &  4        &  8.692500 &  4.105816 &  5.348080 &  1.242263\\\\\n",
       "\t 영등포구  & 4.436245  & 310       &  7.722935 & 16        &  8.490312 &  3.286691 &  4.054068 &  0.767377\\\\\n",
       "\t 강북구    & 3.316029  & 118       &  5.529195 & 11        &  6.139091 &  2.213166 &  2.823062 &  0.609896\\\\\n",
       "\t 강동구    & 4.542627  & 141       &  8.007816 & NA        &        NA &  3.465190 &        NA &        NA\\\\\n",
       "\t 노원구    & 2.852322  & 223       &  5.363493 & NA        &        NA &  2.511171 &        NA &        NA\\\\\n",
       "\t 도봉구    & 2.766260  & 102       &  4.338284 & NA        &        NA &  1.572025 &        NA &        NA\\\\\n",
       "\t 양천구    & 4.890571  &   7       & 15.178571 & NA        &        NA & 10.288001 &        NA &        NA\\\\\n",
       "\t 은평구    & 3.673136  &  12       &  9.920833 & NA        &        NA &  6.247697 &        NA &        NA\\\\\n",
       "\\end{tabular}\n"
      ],
      "text/markdown": [
       "\n",
       "구 | 구평균 | 이상치건수1.5 | 이상치평균1.5 | 이상치건수3 | 이상치평균3 | Diff1.5 | Diff3 | Diff_이상치 | \n",
       "|---|---|---|---|---|---|---|---|---|---|---|---|---|---|---|---|---|---|---|---|---|---|---|---|---|\n",
       "| 용산구    | 8.181540  | 177       | 25.066018 | 35        | 44.485429 | 16.884478 | 36.303888 | 19.419410 | \n",
       "| 동작구    | 5.031661  | 149       |  7.410872 |  7        | 22.970757 |  2.379211 | 17.939096 | 15.559885 | \n",
       "| 강남구    | 9.427761  | 187       | 33.546783 | 20        | 48.727500 | 24.119022 | 39.299739 | 15.180717 | \n",
       "| 송파구    | 6.802916  |  24       | 17.558179 |  1        | 32.500000 | 10.755264 | 25.697084 | 14.941821 | \n",
       "| 성동구    | 5.263481  | 327       |  9.575385 | 23        | 21.106522 |  4.311904 | 15.843041 | 11.531137 | \n",
       "| 서대문구  | 3.856787  |  95       |  9.004518 | 12        | 16.892233 |  5.147731 | 13.035447 |  7.887715 | \n",
       "| 서초구    | 9.458217  | 753       | 15.824745 |  5        | 23.408000 |  6.366528 | 13.949783 |  7.583255 | \n",
       "| 중구      | 5.543990  | 134       |  9.939159 | 19        | 17.320689 |  4.395169 | 11.776700 |  7.381531 | \n",
       "| 강서구    | 3.699352  | 281       |  6.261742 |  2        | 10.762000 |  2.562390 |  7.062648 |  4.500258 | \n",
       "| 종로구    | 4.955020  |  16       | 14.087500 |  2        | 18.500000 |  9.132480 | 13.544980 |  4.412500 | \n",
       "| 마포구    | 5.367831  | 120       | 11.707458 |  3        | 15.233333 |  6.339628 |  9.865503 |  3.525875 | \n",
       "| 중랑구    | 3.046460  |  58       |  5.847843 |  1        |  8.500000 |  2.801383 |  5.453540 |  2.652157 | \n",
       "| 광진구    | 5.584050  | 147       |  8.707381 |  8        | 11.068750 |  3.123331 |  5.484700 |  2.361369 | \n",
       "| 관악구    | 3.578164  |  48       |  6.224271 |  4        |  8.325000 |  2.646107 |  4.746836 |  2.100729 | \n",
       "| 동대문구  | 3.721289  | 157       |  6.510860 |  1        |  8.250000 |  2.789571 |  4.528711 |  1.739140 | \n",
       "| 성북구    | 3.847207  |  80       |  7.652470 | 15        |  9.234333 |  3.805263 |  5.387126 |  1.581863 | \n",
       "| 금천구    | 2.804516  | 240       |  4.710829 |  4        |  6.025000 |  1.906313 |  3.220484 |  1.314171 | \n",
       "| 구로구    | 3.344420  | 219       |  7.450237 |  4        |  8.692500 |  4.105816 |  5.348080 |  1.242263 | \n",
       "| 영등포구  | 4.436245  | 310       |  7.722935 | 16        |  8.490312 |  3.286691 |  4.054068 |  0.767377 | \n",
       "| 강북구    | 3.316029  | 118       |  5.529195 | 11        |  6.139091 |  2.213166 |  2.823062 |  0.609896 | \n",
       "| 강동구    | 4.542627  | 141       |  8.007816 | NA        |        NA |  3.465190 |        NA |        NA | \n",
       "| 노원구    | 2.852322  | 223       |  5.363493 | NA        |        NA |  2.511171 |        NA |        NA | \n",
       "| 도봉구    | 2.766260  | 102       |  4.338284 | NA        |        NA |  1.572025 |        NA |        NA | \n",
       "| 양천구    | 4.890571  |   7       | 15.178571 | NA        |        NA | 10.288001 |        NA |        NA | \n",
       "| 은평구    | 3.673136  |  12       |  9.920833 | NA        |        NA |  6.247697 |        NA |        NA | \n",
       "\n",
       "\n"
      ],
      "text/plain": [
       "   구       구평균   이상치건수1.5 이상치평균1.5 이상치건수3 이상치평균3\n",
       "1  용산구   8.181540 177           25.066018     35          44.485429  \n",
       "2  동작구   5.031661 149            7.410872      7          22.970757  \n",
       "3  강남구   9.427761 187           33.546783     20          48.727500  \n",
       "4  송파구   6.802916  24           17.558179      1          32.500000  \n",
       "5  성동구   5.263481 327            9.575385     23          21.106522  \n",
       "6  서대문구 3.856787  95            9.004518     12          16.892233  \n",
       "7  서초구   9.458217 753           15.824745      5          23.408000  \n",
       "8  중구     5.543990 134            9.939159     19          17.320689  \n",
       "9  강서구   3.699352 281            6.261742      2          10.762000  \n",
       "10 종로구   4.955020  16           14.087500      2          18.500000  \n",
       "11 마포구   5.367831 120           11.707458      3          15.233333  \n",
       "12 중랑구   3.046460  58            5.847843      1           8.500000  \n",
       "13 광진구   5.584050 147            8.707381      8          11.068750  \n",
       "14 관악구   3.578164  48            6.224271      4           8.325000  \n",
       "15 동대문구 3.721289 157            6.510860      1           8.250000  \n",
       "16 성북구   3.847207  80            7.652470     15           9.234333  \n",
       "17 금천구   2.804516 240            4.710829      4           6.025000  \n",
       "18 구로구   3.344420 219            7.450237      4           8.692500  \n",
       "19 영등포구 4.436245 310            7.722935     16           8.490312  \n",
       "20 강북구   3.316029 118            5.529195     11           6.139091  \n",
       "21 강동구   4.542627 141            8.007816     NA                 NA  \n",
       "22 노원구   2.852322 223            5.363493     NA                 NA  \n",
       "23 도봉구   2.766260 102            4.338284     NA                 NA  \n",
       "24 양천구   4.890571   7           15.178571     NA                 NA  \n",
       "25 은평구   3.673136  12            9.920833     NA                 NA  \n",
       "   Diff1.5   Diff3     Diff_이상치\n",
       "1  16.884478 36.303888 19.419410  \n",
       "2   2.379211 17.939096 15.559885  \n",
       "3  24.119022 39.299739 15.180717  \n",
       "4  10.755264 25.697084 14.941821  \n",
       "5   4.311904 15.843041 11.531137  \n",
       "6   5.147731 13.035447  7.887715  \n",
       "7   6.366528 13.949783  7.583255  \n",
       "8   4.395169 11.776700  7.381531  \n",
       "9   2.562390  7.062648  4.500258  \n",
       "10  9.132480 13.544980  4.412500  \n",
       "11  6.339628  9.865503  3.525875  \n",
       "12  2.801383  5.453540  2.652157  \n",
       "13  3.123331  5.484700  2.361369  \n",
       "14  2.646107  4.746836  2.100729  \n",
       "15  2.789571  4.528711  1.739140  \n",
       "16  3.805263  5.387126  1.581863  \n",
       "17  1.906313  3.220484  1.314171  \n",
       "18  4.105816  5.348080  1.242263  \n",
       "19  3.286691  4.054068  0.767377  \n",
       "20  2.213166  2.823062  0.609896  \n",
       "21  3.465190        NA        NA  \n",
       "22  2.511171        NA        NA  \n",
       "23  1.572025        NA        NA  \n",
       "24 10.288001        NA        NA  \n",
       "25  6.247697        NA        NA  "
      ]
     },
     "metadata": {},
     "output_type": "display_data"
    }
   ],
   "source": [
    "cptable <- merge(meanif,meanof,all.x=T,by = '구')  %>% .[,c('Diff1.5','Diff3','Diff_이상치') := list(이상치평균1.5 - 구평균,이상치평균3 - 구평균,이상치평균3 - 이상치평균1.5)]\n",
    "\n",
    "cptable[order(-Diff_이상치)]\n"
   ]
  },
  {
   "cell_type": "code",
   "execution_count": 62,
   "metadata": {},
   "outputs": [],
   "source": [
    "cp_sort_diff <- melt.data.table(cptable, \"구\", c(\"구평균\", \"이상치평균1.5\",\"이상치평균3\",\"Diff_이상치\"))"
   ]
  },
  {
   "cell_type": "code",
   "execution_count": 64,
   "metadata": {},
   "outputs": [
    {
     "data": {},
     "metadata": {},
     "output_type": "display_data"
    },
    {
     "data": {
      "image/png": "[encoded data removed]",
      "text/plain": [
       "plot without title"
      ]
     },
     "metadata": {},
     "output_type": "display_data"
    }
   ],
   "source": [
    "cp_sort_diff[,.SD\n",
    "    ][, val := value[variable == 'Diff_이상치'], \"구\"\n",
    "    ][order(-val,구)\n",
    "    ][, 구 :=factor(구, ordered = T, levels = unique(구))\n",
    "    ][, variable := factor(variable)\n",
    "    ][, ggplot(.SD, aes(x = 구, y = value, fill = variable)) + \n",
    "        geom_bar(stat = 'identity', position = position_dodge()) + \n",
    "        theme(axis.text.x=element_text(angle=90)) + \n",
    "        labs(title = \"구별 이상치 평균비교\", x='',y='평균 거래금액') +\n",
    "        guides(fill=guide_legend(title=NULL))+\n",
    "        coord_fixed(ratio = 0.35)\n",
    "    ]"
   ]
  },
  {
   "cell_type": "markdown",
   "metadata": {},
   "source": [
    "#### 대표값 결정 - 이상치, 극이상치 비교 \n",
    " 각 구평균과의 차이는 1억에서 많게는 36억까지 편차가 있는 실거래가 분포를 형성하고 있다. \n",
    "거래건수와 거래금액의 평균으로 보면 **U(IF,OF) 값들이 L(IF,OF)보다 평균에 영향을 더 주는 것으로 확인 된다.** \n",
    "첨도 왜도 값으로 치우침이 클거라고 예상된 구들은 (성동구, 서대문구, 용산구, 중구, 마포구, 강남구, 영등포구, 동작구, 중랑구, 구로구, \n",
    "종로구, 서초구, 광진구) 이고 실제로 이상치 차이값으로 정렬을 했을때 상위에 위치해있다. \n",
    "\n",
    " **UIF,UOF 거래값을 갖는 정보는 각지역마다의 랜드마크단지로 판단된다.** \n",
    " **LIF,LOF 값을 갖는 정보는 도시형 생활 주택(아파트)로 파악되며 경매로 인한 이상치를 갖는 정보로 보인다.** \n",
    " 박스 플롯에서 보였던 극단 이상치(UOF)값은 그에 해당하는 몇몇 단지들의 분포들 때문이라고 판단 되여 제외할 수 있는 값이라 결정하기 어렵다. 그러나 상당한 건수와 큰 거래금액의 단위는 무시하기 할 수 없기때문에 심각하게 낮은 금액은 제외하고 추후 분석의 **대표값을 기하 평균으로 하여 편중을 줄이기로 한다.**\n",
    " - - - "
   ]
  },
  {
   "cell_type": "code",
   "execution_count": 32,
   "metadata": {},
   "outputs": [
    {
     "data": {
      "text/html": [
       "<dl class=dl-horizontal>\n",
       "\t<dt>0%</dt>\n",
       "\t\t<dd>0.07</dd>\n",
       "\t<dt>25%</dt>\n",
       "\t\t<dd>0.85</dd>\n",
       "\t<dt>50%</dt>\n",
       "\t\t<dd>0.95</dd>\n",
       "\t<dt>75%</dt>\n",
       "\t\t<dd>0.99</dd>\n",
       "\t<dt>100%</dt>\n",
       "\t\t<dd>1</dd>\n",
       "</dl>\n"
      ],
      "text/latex": [
       "\\begin{description*}\n",
       "\\item[0\\textbackslash{}\\%] 0.07\n",
       "\\item[25\\textbackslash{}\\%] 0.85\n",
       "\\item[50\\textbackslash{}\\%] 0.95\n",
       "\\item[75\\textbackslash{}\\%] 0.99\n",
       "\\item[100\\textbackslash{}\\%] 1\n",
       "\\end{description*}\n"
      ],
      "text/markdown": [
       "0%\n",
       ":   0.0725%\n",
       ":   0.8550%\n",
       ":   0.9575%\n",
       ":   0.99100%\n",
       ":   1\n",
       "\n"
      ],
      "text/plain": [
       "  0%  25%  50%  75% 100% \n",
       "0.07 0.85 0.95 0.99 1.00 "
      ]
     },
     "metadata": {},
     "output_type": "display_data"
    }
   ],
   "source": [
    "quantile(IQR[거래금액 <= 1]$거래금액) # 1억이하의 거래의 사분위수 추출"
   ]
  },
  {
   "cell_type": "code",
   "execution_count": 33,
   "metadata": {},
   "outputs": [],
   "source": [
    "IQR <- IQR[!거래금액 <= 0.7 ] #1억미만 매매 거래가 확인 결과 8천만원까지는 정상적인 거래가가 있었으나 그 이하의 거래를 매매가라고 보기는 어려워 제외한다."
   ]
  },
  {
   "cell_type": "markdown",
   "metadata": {},
   "source": [
    "### 5). 분기별 이상치 분포에 따른 증감률 비교 및 부동산 대책 시기 확인\n",
    "- 분기별 표준편차, 평균, 중앙값, 건수, 거래총합, 전 분기 대비 증감율을 구한다.\n",
    "- 각 속성별로 scale을 적용하여 다차원 비교가 가능하도록 정규화한다. scale = 편차 / 표준편차\n",
    "- 데이터 셋을 normal, outliers1.5, outliers3 으로 분류하여 비교 분석한다.\n",
    "- 부동산 대책 시행이 분류된 데이터 셋에 영향이 있었는지 확인한다."
   ]
  },
  {
   "cell_type": "markdown",
   "metadata": {},
   "source": [
    "#### 2013~2016부동산 대책\n",
    "![default](https://user-images.githubusercontent.com/30791788/36348704-b1a334b0-146d-11e8-802f-c3043f7da75f.jpg)\n"
   ]
  },
  {
   "cell_type": "code",
   "execution_count": 34,
   "metadata": {},
   "outputs": [],
   "source": [
    "#부동산 대책이 있었던 분기를 1로 없었던 분기를 0으로 하여 그래프에 표현하도록 객체 생성.\n",
    "pol <- data.table(\"year\" = c(2013,2014,2015,2016),\"1Q\" = c(0,1,1,0), \"2Q\" = c(1,0,1,1),\n",
    "                  \"3Q\" = c(1,1,1,1), \"4Q\" = c(1,1,0,0))\n",
    "\n",
    "cn <- which(as.logical(cbind(pol[1,-1],pol[2,-1],pol[3,-1],pol[4,-1])))"
   ]
  },
  {
   "cell_type": "code",
   "execution_count": 35,
   "metadata": {},
   "outputs": [],
   "source": [
    "#데이터의 분기 or 년도별 기술통계를 구하는 함수\n",
    "#yq : 년도, 분기 선택가능하다. \n",
    "descstats <- function(cptable, yq = '분기'){\n",
    " \n",
    "  res <- list()\n",
    "  \n",
    "  stats <- cptable[, .(\"표준편차\" = sqrt(sum((거래금액 - exp(mean(log(거래금액))))^2) / (length(거래금액) - 1)), #기하평균 표준편차\n",
    "                       \"평균\" = exp(mean(log(거래금액))),  #기하평균\n",
    "                       \"중앙값\" = median(거래금액),\n",
    "                       \"건수\" = .N,\n",
    "                       \"총합\" = sum(거래금액)), by = yq] %>% .[order(.[,1])] %>% \n",
    "    .[, paste(names(.)[-1],'증감률', sep = '_') := lapply(.SD, function(x){ c(0,diff(x) / x[-length(x)] * 100) }), .SDcols = 표준편차:총합]\n",
    "                                                    #바로 전 (분기 or 년)값 대비 증감률을 구한다.\n",
    "  cdt <- copy(stats) %>%  \n",
    "    .[, names(.)[-1] := lapply(.SD, scale), .SDcols = 표준편차:총합_증감률]  #다차원 값의 비교를 위해 스케일을 적용한다.\n",
    "  \n",
    "  \n",
    "  res[[1]] <- stats    #scale 적용전 값, database에 저장할 데이터\n",
    "  res[[2]] <- cdt      #scale 적용 값, 그래프 분석에 활용할 데이터\n",
    "  return(res)\n",
    "}"
   ]
  },
  {
   "cell_type": "code",
   "execution_count": 36,
   "metadata": {},
   "outputs": [],
   "source": [
    "#subset - 일반적인 데이터 값, IF, OF 데이터 분할 \n",
    "normaldt <- IQR[!거래금액 <= IQRMIN & !거래금액 >= IQRMAX]\n",
    "outlierset1.5 <- IQR[(거래금액 <= IQRMIN & 거래금액 >= IQRMIN3) | (거래금액 >= IQRMAX & 거래금액 <= IQRMAX3)]\n",
    "outlierset3 <- IQR[거래금액 <= IQRMIN3 | 거래금액 >= IQRMAX3]\n",
    "\n",
    "#descstats 함수 적용.\n",
    "normaltrade <- descstats(normaldt)\n",
    "outtrade1.5 <- descstats(outlierset1.5)\n",
    "outtrade3 <- descstats(outlierset3)"
   ]
  },
  {
   "cell_type": "code",
   "execution_count": 37,
   "metadata": {
    "scrolled": false
   },
   "outputs": [
    {
     "data": {
      "text/html": [
       "<ol>\n",
       "\t<li><table>\n",
       "<thead><tr><th scope=col>분기</th><th scope=col>표준편차</th><th scope=col>평균</th><th scope=col>중앙값</th><th scope=col>건수</th><th scope=col>총합</th><th scope=col>표준편차_증감률</th><th scope=col>평균_증감률</th><th scope=col>중앙값_증감률</th><th scope=col>건수_증감률</th><th scope=col>총합_증감률</th></tr></thead>\n",
       "<tbody>\n",
       "\t<tr><td>2013Q1     </td><td>3.149121   </td><td>3.854737   </td><td>3.650      </td><td>14137      </td><td> 64274.61  </td><td>  0.0000000</td><td> 0.00000000</td><td> 0.0000000 </td><td>  0.000000 </td><td>  0.000000 </td></tr>\n",
       "\t<tr><td>2013Q2     </td><td>2.935797   </td><td>3.736037   </td><td>3.600      </td><td>17809      </td><td> 77504.11  </td><td> -6.7740908</td><td>-3.07932830</td><td>-1.3698630 </td><td> 25.974393 </td><td> 20.582764 </td></tr>\n",
       "\t<tr><td>2013Q3     </td><td>2.629893   </td><td>3.574049   </td><td>3.470      </td><td>15606      </td><td> 63755.96  </td><td>-10.4197849</td><td>-4.33582363</td><td>-3.6111111 </td><td>-12.370150 </td><td>-17.738603 </td></tr>\n",
       "\t<tr><td>2013Q4     </td><td>2.854782   </td><td>3.833667   </td><td>3.720      </td><td>19179      </td><td> 84898.36  </td><td>  8.5512598</td><td> 7.26397214</td><td> 7.2046110 </td><td> 22.895040 </td><td> 33.161450 </td></tr>\n",
       "\t<tr><td>2014Q1     </td><td>3.026295   </td><td>3.879266   </td><td>3.750      </td><td>23746      </td><td>106932.97  </td><td>  6.0079012</td><td> 1.18942580</td><td> 0.8064516 </td><td> 23.812503 </td><td> 25.954104 </td></tr>\n",
       "\t<tr><td>2014Q2     </td><td>2.895061   </td><td>3.795065   </td><td>3.700      </td><td>15316      </td><td> 67271.40  </td><td> -4.3364473</td><td>-2.17054684</td><td>-1.3333333 </td><td>-35.500716 </td><td>-37.090119 </td></tr>\n",
       "\t<tr><td>2014Q3     </td><td>3.026229   </td><td>3.917656   </td><td>3.790      </td><td>24778      </td><td>113049.36  </td><td>  4.5307486</td><td> 3.23028808</td><td> 2.4324324 </td><td> 61.778532 </td><td> 68.049646 </td></tr>\n",
       "\t<tr><td>2014Q4     </td><td>2.972121   </td><td>3.830675   </td><td>3.750      </td><td>20226      </td><td> 90151.84  </td><td> -1.7879559</td><td>-2.22024205</td><td>-1.0554090 </td><td>-18.371136 </td><td>-20.254446 </td></tr>\n",
       "\t<tr><td>2015Q1     </td><td>2.819825   </td><td>3.934618   </td><td>3.850      </td><td>34414      </td><td>154869.64  </td><td> -5.1241693</td><td> 2.71344719</td><td> 2.6666667 </td><td> 70.147335 </td><td> 71.787562 </td></tr>\n",
       "\t<tr><td>2015Q2     </td><td>2.967229   </td><td>4.055160   </td><td>3.975      </td><td>32332      </td><td>150809.98  </td><td>  5.2274319</td><td> 3.06363145</td><td> 3.2467532 </td><td> -6.049863 </td><td> -2.621344 </td></tr>\n",
       "\t<tr><td>2015Q3     </td><td>2.941240   </td><td>4.056912   </td><td>3.995      </td><td>29125      </td><td>135771.75  </td><td> -0.8758784</td><td> 0.04320492</td><td> 0.5031447 </td><td> -9.918966 </td><td> -9.971637 </td></tr>\n",
       "\t<tr><td>2015Q4     </td><td>3.282280   </td><td>4.381552   </td><td>4.290      </td><td>22195      </td><td>113037.32  </td><td> 11.5951080</td><td> 8.00214769</td><td> 7.3842303 </td><td>-23.793991 </td><td>-16.744593 </td></tr>\n",
       "\t<tr><td>2016Q1     </td><td>3.140704   </td><td>4.130478   </td><td>4.040      </td><td>18889      </td><td> 90191.09  </td><td> -4.3133538</td><td>-5.73026515</td><td>-5.8275058 </td><td>-14.895247 </td><td>-20.211234 </td></tr>\n",
       "\t<tr><td>2016Q2     </td><td>3.657161   </td><td>4.637082   </td><td>4.500      </td><td>34199      </td><td>185337.17  </td><td> 16.4440039</td><td>12.26501982</td><td>11.3861386 </td><td> 81.052464 </td><td>105.493886 </td></tr>\n",
       "\t<tr><td>2016Q3     </td><td>3.451134   </td><td>4.718707   </td><td>4.600      </td><td>33769      </td><td>183359.82  </td><td> -5.6335331</td><td> 1.76027818</td><td> 2.2222222 </td><td> -1.257347 </td><td> -1.066892 </td></tr>\n",
       "\t<tr><td>2016Q4     </td><td>3.388125   </td><td>4.674716   </td><td>4.600      </td><td>19240      </td><td>103426.40  </td><td> -1.8257429</td><td>-0.93226406</td><td> 0.0000000 </td><td>-43.024668 </td><td>-43.593752 </td></tr>\n",
       "</tbody>\n",
       "</table>\n",
       "</li>\n",
       "\t<li><table>\n",
       "<thead><tr><th scope=col>분기</th><th scope=col>표준편차</th><th scope=col>평균</th><th scope=col>중앙값</th><th scope=col>건수</th><th scope=col>총합</th><th scope=col>표준편차_증감률</th><th scope=col>평균_증감률</th><th scope=col>중앙값_증감률</th><th scope=col>건수_증감률</th><th scope=col>총합_증감률</th></tr></thead>\n",
       "<tbody>\n",
       "\t<tr><td>2013Q1     </td><td> 0.2965517 </td><td>-0.58886112</td><td>-0.84649318</td><td>-1.2976150 </td><td>-1.18260017</td><td>-0.09574684</td><td>-0.27536349</td><td>-0.3571339 </td><td>-0.2027371 </td><td>-0.2320515 </td></tr>\n",
       "\t<tr><td>2013Q2     </td><td>-0.5138825 </td><td>-0.92424511</td><td>-0.98526255</td><td>-0.7851562 </td><td>-0.85159339</td><td>-1.01692811</td><td>-0.91947821</td><td>-0.6746135 </td><td> 0.4966058 </td><td> 0.2586494 </td></tr>\n",
       "\t<tr><td>2013Q3     </td><td>-1.6760323 </td><td>-1.38193821</td><td>-1.34606292</td><td>-1.0926036 </td><td>-1.19557708</td><td>-1.51269132</td><td>-1.18230408</td><td>-1.1940452 </td><td>-0.5357949 </td><td>-0.6549465 </td></tr>\n",
       "\t<tr><td>2013Q4     </td><td>-0.8216631 </td><td>-0.64839405</td><td>-0.65221605</td><td>-0.5939610 </td><td>-0.66658640</td><td> 1.06710446</td><td> 1.24406899</td><td> 1.3126070 </td><td> 0.4136963 </td><td> 0.5585300 </td></tr>\n",
       "\t<tr><td>2014Q1     </td><td>-0.1700751 </td><td>-0.51955625</td><td>-0.56895443</td><td> 0.0434027 </td><td>-0.11527235</td><td> 0.72124339</td><td>-0.02656680</td><td>-0.1702307 </td><td> 0.4383983 </td><td> 0.3867041 </td></tr>\n",
       "\t<tr><td>2014Q2     </td><td>-0.6686410 </td><td>-0.75746491</td><td>-0.70772380</td><td>-1.1330756 </td><td>-1.10761938</td><td>-0.68544280</td><td>-0.72938496</td><td>-0.6661473 </td><td>-1.1585696 </td><td>-1.1162940 </td></tr>\n",
       "\t<tr><td>2014Q3     </td><td>-0.1703248 </td><td>-0.41108557</td><td>-0.45793893</td><td> 0.1874271 </td><td> 0.03776190</td><td> 0.52037137</td><td> 0.40032807</td><td> 0.2066067 </td><td> 1.4606078 </td><td> 1.3902778 </td></tr>\n",
       "\t<tr><td>2014Q4     </td><td>-0.3758835 </td><td>-0.65684953</td><td>-0.56895443</td><td>-0.4478433 </td><td>-0.53514254</td><td>-0.33888375</td><td>-0.73977990</td><td>-0.6017356 </td><td>-0.6973674 </td><td>-0.7149252 </td></tr>\n",
       "\t<tr><td>2015Q1     </td><td>-0.9544688 </td><td>-0.36316018</td><td>-0.29141568</td><td> 1.5322129 </td><td> 1.08412084</td><td>-0.79256194</td><td> 0.29221851</td><td> 0.2608928 </td><td> 1.6859321 </td><td> 1.4793911 </td></tr>\n",
       "\t<tr><td>2015Q2     </td><td>-0.3944690 </td><td>-0.02257116</td><td> 0.05550775</td><td> 1.2416521 </td><td> 0.98254650</td><td> 0.61511052</td><td> 0.36546787</td><td> 0.3953337 </td><td>-0.3656255 </td><td>-0.2945453 </td></tr>\n",
       "\t<tr><td>2015Q3     </td><td>-0.4932043 </td><td>-0.01762084</td><td> 0.11101550</td><td> 0.7940879 </td><td> 0.60628460</td><td>-0.21485401</td><td>-0.26632615</td><td>-0.2405251 </td><td>-0.4697984 </td><td>-0.4697791 </td></tr>\n",
       "\t<tr><td>2015Q4     </td><td> 0.8024305 </td><td> 0.89964184</td><td> 0.92975480</td><td>-0.1730526 </td><td> 0.03746082</td><td> 1.48102510</td><td> 1.39847596</td><td> 1.3542356 </td><td>-0.8433740 </td><td>-0.6312489 </td></tr>\n",
       "\t<tr><td>2016Q1     </td><td> 0.2645720 </td><td> 0.19023680</td><td> 0.23590793</td><td>-0.6344330 </td><td>-0.53416048</td><td>-0.68230241</td><td>-1.47398468</td><td>-1.7077170 </td><td>-0.6037814 </td><td>-0.7138949 </td></tr>\n",
       "\t<tr><td>2016Q2     </td><td> 2.2266301 </td><td> 1.62163378</td><td> 1.51258617</td><td> 1.5022078 </td><td> 1.84642962</td><td> 2.14040686</td><td> 2.29015701</td><td> 2.2817180 </td><td> 1.9795453 </td><td> 2.2829626 </td></tr>\n",
       "\t<tr><td>2016Q3     </td><td> 1.4439176 </td><td> 1.85226474</td><td> 1.79012491</td><td> 1.4421977 </td><td> 1.79695566</td><td>-0.86182827</td><td> 0.09284055</td><td> 0.1578884 </td><td>-0.2365903 </td><td>-0.2574866 </td></tr>\n",
       "\t<tr><td>2016Q4     </td><td> 1.2045426 </td><td> 1.72796977</td><td> 1.79012491</td><td>-0.5854480 </td><td>-0.20300816</td><td>-0.34402225</td><td>-0.47036868</td><td>-0.3571339 </td><td>-1.3611469 </td><td>-1.2713430 </td></tr>\n",
       "</tbody>\n",
       "</table>\n",
       "</li>\n",
       "</ol>\n"
      ],
      "text/latex": [
       "\\begin{enumerate}\n",
       "\\item \\begin{tabular}{r|lllllllllll}\n",
       " 분기 & 표준편차 & 평균 & 중앙값 & 건수 & 총합 & 표준편차\\_증감률 & 평균\\_증감률 & 중앙값\\_증감률 & 건수\\_증감률 & 총합\\_증감률\\\\\n",
       "\\hline\n",
       "\t 2013Q1      & 3.149121    & 3.854737    & 3.650       & 14137       &  64274.61   &   0.0000000 &  0.00000000 &  0.0000000  &   0.000000  &   0.000000 \\\\\n",
       "\t 2013Q2      & 2.935797    & 3.736037    & 3.600       & 17809       &  77504.11   &  -6.7740908 & -3.07932830 & -1.3698630  &  25.974393  &  20.582764 \\\\\n",
       "\t 2013Q3      & 2.629893    & 3.574049    & 3.470       & 15606       &  63755.96   & -10.4197849 & -4.33582363 & -3.6111111  & -12.370150  & -17.738603 \\\\\n",
       "\t 2013Q4      & 2.854782    & 3.833667    & 3.720       & 19179       &  84898.36   &   8.5512598 &  7.26397214 &  7.2046110  &  22.895040  &  33.161450 \\\\\n",
       "\t 2014Q1      & 3.026295    & 3.879266    & 3.750       & 23746       & 106932.97   &   6.0079012 &  1.18942580 &  0.8064516  &  23.812503  &  25.954104 \\\\\n",
       "\t 2014Q2      & 2.895061    & 3.795065    & 3.700       & 15316       &  67271.40   &  -4.3364473 & -2.17054684 & -1.3333333  & -35.500716  & -37.090119 \\\\\n",
       "\t 2014Q3      & 3.026229    & 3.917656    & 3.790       & 24778       & 113049.36   &   4.5307486 &  3.23028808 &  2.4324324  &  61.778532  &  68.049646 \\\\\n",
       "\t 2014Q4      & 2.972121    & 3.830675    & 3.750       & 20226       &  90151.84   &  -1.7879559 & -2.22024205 & -1.0554090  & -18.371136  & -20.254446 \\\\\n",
       "\t 2015Q1      & 2.819825    & 3.934618    & 3.850       & 34414       & 154869.64   &  -5.1241693 &  2.71344719 &  2.6666667  &  70.147335  &  71.787562 \\\\\n",
       "\t 2015Q2      & 2.967229    & 4.055160    & 3.975       & 32332       & 150809.98   &   5.2274319 &  3.06363145 &  3.2467532  &  -6.049863  &  -2.621344 \\\\\n",
       "\t 2015Q3      & 2.941240    & 4.056912    & 3.995       & 29125       & 135771.75   &  -0.8758784 &  0.04320492 &  0.5031447  &  -9.918966  &  -9.971637 \\\\\n",
       "\t 2015Q4      & 3.282280    & 4.381552    & 4.290       & 22195       & 113037.32   &  11.5951080 &  8.00214769 &  7.3842303  & -23.793991  & -16.744593 \\\\\n",
       "\t 2016Q1      & 3.140704    & 4.130478    & 4.040       & 18889       &  90191.09   &  -4.3133538 & -5.73026515 & -5.8275058  & -14.895247  & -20.211234 \\\\\n",
       "\t 2016Q2      & 3.657161    & 4.637082    & 4.500       & 34199       & 185337.17   &  16.4440039 & 12.26501982 & 11.3861386  &  81.052464  & 105.493886 \\\\\n",
       "\t 2016Q3      & 3.451134    & 4.718707    & 4.600       & 33769       & 183359.82   &  -5.6335331 &  1.76027818 &  2.2222222  &  -1.257347  &  -1.066892 \\\\\n",
       "\t 2016Q4      & 3.388125    & 4.674716    & 4.600       & 19240       & 103426.40   &  -1.8257429 & -0.93226406 &  0.0000000  & -43.024668  & -43.593752 \\\\\n",
       "\\end{tabular}\n",
       "\n",
       "\\item \\begin{tabular}{r|lllllllllll}\n",
       " 분기 & 표준편차 & 평균 & 중앙값 & 건수 & 총합 & 표준편차\\_증감률 & 평균\\_증감률 & 중앙값\\_증감률 & 건수\\_증감률 & 총합\\_증감률\\\\\n",
       "\\hline\n",
       "\t 2013Q1      &  0.2965517  & -0.58886112 & -0.84649318 & -1.2976150  & -1.18260017 & -0.09574684 & -0.27536349 & -0.3571339  & -0.2027371  & -0.2320515 \\\\\n",
       "\t 2013Q2      & -0.5138825  & -0.92424511 & -0.98526255 & -0.7851562  & -0.85159339 & -1.01692811 & -0.91947821 & -0.6746135  &  0.4966058  &  0.2586494 \\\\\n",
       "\t 2013Q3      & -1.6760323  & -1.38193821 & -1.34606292 & -1.0926036  & -1.19557708 & -1.51269132 & -1.18230408 & -1.1940452  & -0.5357949  & -0.6549465 \\\\\n",
       "\t 2013Q4      & -0.8216631  & -0.64839405 & -0.65221605 & -0.5939610  & -0.66658640 &  1.06710446 &  1.24406899 &  1.3126070  &  0.4136963  &  0.5585300 \\\\\n",
       "\t 2014Q1      & -0.1700751  & -0.51955625 & -0.56895443 &  0.0434027  & -0.11527235 &  0.72124339 & -0.02656680 & -0.1702307  &  0.4383983  &  0.3867041 \\\\\n",
       "\t 2014Q2      & -0.6686410  & -0.75746491 & -0.70772380 & -1.1330756  & -1.10761938 & -0.68544280 & -0.72938496 & -0.6661473  & -1.1585696  & -1.1162940 \\\\\n",
       "\t 2014Q3      & -0.1703248  & -0.41108557 & -0.45793893 &  0.1874271  &  0.03776190 &  0.52037137 &  0.40032807 &  0.2066067  &  1.4606078  &  1.3902778 \\\\\n",
       "\t 2014Q4      & -0.3758835  & -0.65684953 & -0.56895443 & -0.4478433  & -0.53514254 & -0.33888375 & -0.73977990 & -0.6017356  & -0.6973674  & -0.7149252 \\\\\n",
       "\t 2015Q1      & -0.9544688  & -0.36316018 & -0.29141568 &  1.5322129  &  1.08412084 & -0.79256194 &  0.29221851 &  0.2608928  &  1.6859321  &  1.4793911 \\\\\n",
       "\t 2015Q2      & -0.3944690  & -0.02257116 &  0.05550775 &  1.2416521  &  0.98254650 &  0.61511052 &  0.36546787 &  0.3953337  & -0.3656255  & -0.2945453 \\\\\n",
       "\t 2015Q3      & -0.4932043  & -0.01762084 &  0.11101550 &  0.7940879  &  0.60628460 & -0.21485401 & -0.26632615 & -0.2405251  & -0.4697984  & -0.4697791 \\\\\n",
       "\t 2015Q4      &  0.8024305  &  0.89964184 &  0.92975480 & -0.1730526  &  0.03746082 &  1.48102510 &  1.39847596 &  1.3542356  & -0.8433740  & -0.6312489 \\\\\n",
       "\t 2016Q1      &  0.2645720  &  0.19023680 &  0.23590793 & -0.6344330  & -0.53416048 & -0.68230241 & -1.47398468 & -1.7077170  & -0.6037814  & -0.7138949 \\\\\n",
       "\t 2016Q2      &  2.2266301  &  1.62163378 &  1.51258617 &  1.5022078  &  1.84642962 &  2.14040686 &  2.29015701 &  2.2817180  &  1.9795453  &  2.2829626 \\\\\n",
       "\t 2016Q3      &  1.4439176  &  1.85226474 &  1.79012491 &  1.4421977  &  1.79695566 & -0.86182827 &  0.09284055 &  0.1578884  & -0.2365903  & -0.2574866 \\\\\n",
       "\t 2016Q4      &  1.2045426  &  1.72796977 &  1.79012491 & -0.5854480  & -0.20300816 & -0.34402225 & -0.47036868 & -0.3571339  & -1.3611469  & -1.2713430 \\\\\n",
       "\\end{tabular}\n",
       "\n",
       "\\end{enumerate}\n"
      ],
      "text/markdown": [
       "1. \n",
       "분기 | 표준편차 | 평균 | 중앙값 | 건수 | 총합 | 표준편차_증감률 | 평균_증감률 | 중앙값_증감률 | 건수_증감률 | 총합_증감률 | \n",
       "|---|---|---|---|---|---|---|---|---|---|---|---|---|---|---|---|\n",
       "| 2013Q1      | 3.149121    | 3.854737    | 3.650       | 14137       |  64274.61   |   0.0000000 |  0.00000000 |  0.0000000  |   0.000000  |   0.000000  | \n",
       "| 2013Q2      | 2.935797    | 3.736037    | 3.600       | 17809       |  77504.11   |  -6.7740908 | -3.07932830 | -1.3698630  |  25.974393  |  20.582764  | \n",
       "| 2013Q3      | 2.629893    | 3.574049    | 3.470       | 15606       |  63755.96   | -10.4197849 | -4.33582363 | -3.6111111  | -12.370150  | -17.738603  | \n",
       "| 2013Q4      | 2.854782    | 3.833667    | 3.720       | 19179       |  84898.36   |   8.5512598 |  7.26397214 |  7.2046110  |  22.895040  |  33.161450  | \n",
       "| 2014Q1      | 3.026295    | 3.879266    | 3.750       | 23746       | 106932.97   |   6.0079012 |  1.18942580 |  0.8064516  |  23.812503  |  25.954104  | \n",
       "| 2014Q2      | 2.895061    | 3.795065    | 3.700       | 15316       |  67271.40   |  -4.3364473 | -2.17054684 | -1.3333333  | -35.500716  | -37.090119  | \n",
       "| 2014Q3      | 3.026229    | 3.917656    | 3.790       | 24778       | 113049.36   |   4.5307486 |  3.23028808 |  2.4324324  |  61.778532  |  68.049646  | \n",
       "| 2014Q4      | 2.972121    | 3.830675    | 3.750       | 20226       |  90151.84   |  -1.7879559 | -2.22024205 | -1.0554090  | -18.371136  | -20.254446  | \n",
       "| 2015Q1      | 2.819825    | 3.934618    | 3.850       | 34414       | 154869.64   |  -5.1241693 |  2.71344719 |  2.6666667  |  70.147335  |  71.787562  | \n",
       "| 2015Q2      | 2.967229    | 4.055160    | 3.975       | 32332       | 150809.98   |   5.2274319 |  3.06363145 |  3.2467532  |  -6.049863  |  -2.621344  | \n",
       "| 2015Q3      | 2.941240    | 4.056912    | 3.995       | 29125       | 135771.75   |  -0.8758784 |  0.04320492 |  0.5031447  |  -9.918966  |  -9.971637  | \n",
       "| 2015Q4      | 3.282280    | 4.381552    | 4.290       | 22195       | 113037.32   |  11.5951080 |  8.00214769 |  7.3842303  | -23.793991  | -16.744593  | \n",
       "| 2016Q1      | 3.140704    | 4.130478    | 4.040       | 18889       |  90191.09   |  -4.3133538 | -5.73026515 | -5.8275058  | -14.895247  | -20.211234  | \n",
       "| 2016Q2      | 3.657161    | 4.637082    | 4.500       | 34199       | 185337.17   |  16.4440039 | 12.26501982 | 11.3861386  |  81.052464  | 105.493886  | \n",
       "| 2016Q3      | 3.451134    | 4.718707    | 4.600       | 33769       | 183359.82   |  -5.6335331 |  1.76027818 |  2.2222222  |  -1.257347  |  -1.066892  | \n",
       "| 2016Q4      | 3.388125    | 4.674716    | 4.600       | 19240       | 103426.40   |  -1.8257429 | -0.93226406 |  0.0000000  | -43.024668  | -43.593752  | \n",
       "\n",
       "\n",
       "\n",
       "2. \n",
       "분기 | 표준편차 | 평균 | 중앙값 | 건수 | 총합 | 표준편차_증감률 | 평균_증감률 | 중앙값_증감률 | 건수_증감률 | 총합_증감률 | \n",
       "|---|---|---|---|---|---|---|---|---|---|---|---|---|---|---|---|\n",
       "| 2013Q1      |  0.2965517  | -0.58886112 | -0.84649318 | -1.2976150  | -1.18260017 | -0.09574684 | -0.27536349 | -0.3571339  | -0.2027371  | -0.2320515  | \n",
       "| 2013Q2      | -0.5138825  | -0.92424511 | -0.98526255 | -0.7851562  | -0.85159339 | -1.01692811 | -0.91947821 | -0.6746135  |  0.4966058  |  0.2586494  | \n",
       "| 2013Q3      | -1.6760323  | -1.38193821 | -1.34606292 | -1.0926036  | -1.19557708 | -1.51269132 | -1.18230408 | -1.1940452  | -0.5357949  | -0.6549465  | \n",
       "| 2013Q4      | -0.8216631  | -0.64839405 | -0.65221605 | -0.5939610  | -0.66658640 |  1.06710446 |  1.24406899 |  1.3126070  |  0.4136963  |  0.5585300  | \n",
       "| 2014Q1      | -0.1700751  | -0.51955625 | -0.56895443 |  0.0434027  | -0.11527235 |  0.72124339 | -0.02656680 | -0.1702307  |  0.4383983  |  0.3867041  | \n",
       "| 2014Q2      | -0.6686410  | -0.75746491 | -0.70772380 | -1.1330756  | -1.10761938 | -0.68544280 | -0.72938496 | -0.6661473  | -1.1585696  | -1.1162940  | \n",
       "| 2014Q3      | -0.1703248  | -0.41108557 | -0.45793893 |  0.1874271  |  0.03776190 |  0.52037137 |  0.40032807 |  0.2066067  |  1.4606078  |  1.3902778  | \n",
       "| 2014Q4      | -0.3758835  | -0.65684953 | -0.56895443 | -0.4478433  | -0.53514254 | -0.33888375 | -0.73977990 | -0.6017356  | -0.6973674  | -0.7149252  | \n",
       "| 2015Q1      | -0.9544688  | -0.36316018 | -0.29141568 |  1.5322129  |  1.08412084 | -0.79256194 |  0.29221851 |  0.2608928  |  1.6859321  |  1.4793911  | \n",
       "| 2015Q2      | -0.3944690  | -0.02257116 |  0.05550775 |  1.2416521  |  0.98254650 |  0.61511052 |  0.36546787 |  0.3953337  | -0.3656255  | -0.2945453  | \n",
       "| 2015Q3      | -0.4932043  | -0.01762084 |  0.11101550 |  0.7940879  |  0.60628460 | -0.21485401 | -0.26632615 | -0.2405251  | -0.4697984  | -0.4697791  | \n",
       "| 2015Q4      |  0.8024305  |  0.89964184 |  0.92975480 | -0.1730526  |  0.03746082 |  1.48102510 |  1.39847596 |  1.3542356  | -0.8433740  | -0.6312489  | \n",
       "| 2016Q1      |  0.2645720  |  0.19023680 |  0.23590793 | -0.6344330  | -0.53416048 | -0.68230241 | -1.47398468 | -1.7077170  | -0.6037814  | -0.7138949  | \n",
       "| 2016Q2      |  2.2266301  |  1.62163378 |  1.51258617 |  1.5022078  |  1.84642962 |  2.14040686 |  2.29015701 |  2.2817180  |  1.9795453  |  2.2829626  | \n",
       "| 2016Q3      |  1.4439176  |  1.85226474 |  1.79012491 |  1.4421977  |  1.79695566 | -0.86182827 |  0.09284055 |  0.1578884  | -0.2365903  | -0.2574866  | \n",
       "| 2016Q4      |  1.2045426  |  1.72796977 |  1.79012491 | -0.5854480  | -0.20300816 | -0.34402225 | -0.47036868 | -0.3571339  | -1.3611469  | -1.2713430  | \n",
       "\n",
       "\n",
       "\n",
       "\n",
       "\n"
      ],
      "text/plain": [
       "[[1]]\n",
       "      분기 표준편차     평균 중앙값  건수      총합 표준편차_증감률 평균_증감률\n",
       " 1: 2013Q1 3.149121 3.854737  3.650 14137  64274.61       0.0000000  0.00000000\n",
       " 2: 2013Q2 2.935797 3.736037  3.600 17809  77504.11      -6.7740908 -3.07932830\n",
       " 3: 2013Q3 2.629893 3.574049  3.470 15606  63755.96     -10.4197849 -4.33582363\n",
       " 4: 2013Q4 2.854782 3.833667  3.720 19179  84898.36       8.5512598  7.26397214\n",
       " 5: 2014Q1 3.026295 3.879266  3.750 23746 106932.97       6.0079012  1.18942580\n",
       " 6: 2014Q2 2.895061 3.795065  3.700 15316  67271.40      -4.3364473 -2.17054684\n",
       " 7: 2014Q3 3.026229 3.917656  3.790 24778 113049.36       4.5307486  3.23028808\n",
       " 8: 2014Q4 2.972121 3.830675  3.750 20226  90151.84      -1.7879559 -2.22024205\n",
       " 9: 2015Q1 2.819825 3.934618  3.850 34414 154869.64      -5.1241693  2.71344719\n",
       "10: 2015Q2 2.967229 4.055160  3.975 32332 150809.98       5.2274319  3.06363145\n",
       "11: 2015Q3 2.941240 4.056912  3.995 29125 135771.75      -0.8758784  0.04320492\n",
       "12: 2015Q4 3.282280 4.381552  4.290 22195 113037.32      11.5951080  8.00214769\n",
       "13: 2016Q1 3.140704 4.130478  4.040 18889  90191.09      -4.3133538 -5.73026515\n",
       "14: 2016Q2 3.657161 4.637082  4.500 34199 185337.17      16.4440039 12.26501982\n",
       "15: 2016Q3 3.451134 4.718707  4.600 33769 183359.82      -5.6335331  1.76027818\n",
       "16: 2016Q4 3.388125 4.674716  4.600 19240 103426.40      -1.8257429 -0.93226406\n",
       "    중앙값_증감률 건수_증감률 총합_증감률\n",
       " 1:     0.0000000    0.000000    0.000000\n",
       " 2:    -1.3698630   25.974393   20.582764\n",
       " 3:    -3.6111111  -12.370150  -17.738603\n",
       " 4:     7.2046110   22.895040   33.161450\n",
       " 5:     0.8064516   23.812503   25.954104\n",
       " 6:    -1.3333333  -35.500716  -37.090119\n",
       " 7:     2.4324324   61.778532   68.049646\n",
       " 8:    -1.0554090  -18.371136  -20.254446\n",
       " 9:     2.6666667   70.147335   71.787562\n",
       "10:     3.2467532   -6.049863   -2.621344\n",
       "11:     0.5031447   -9.918966   -9.971637\n",
       "12:     7.3842303  -23.793991  -16.744593\n",
       "13:    -5.8275058  -14.895247  -20.211234\n",
       "14:    11.3861386   81.052464  105.493886\n",
       "15:     2.2222222   -1.257347   -1.066892\n",
       "16:     0.0000000  -43.024668  -43.593752\n",
       "\n",
       "[[2]]\n",
       "      분기   표준편차        평균      중앙값       건수        총합\n",
       " 1: 2013Q1  0.2965517 -0.58886112 -0.84649318 -1.2976150 -1.18260017\n",
       " 2: 2013Q2 -0.5138825 -0.92424511 -0.98526255 -0.7851562 -0.85159339\n",
       " 3: 2013Q3 -1.6760323 -1.38193821 -1.34606292 -1.0926036 -1.19557708\n",
       " 4: 2013Q4 -0.8216631 -0.64839405 -0.65221605 -0.5939610 -0.66658640\n",
       " 5: 2014Q1 -0.1700751 -0.51955625 -0.56895443  0.0434027 -0.11527235\n",
       " 6: 2014Q2 -0.6686410 -0.75746491 -0.70772380 -1.1330756 -1.10761938\n",
       " 7: 2014Q3 -0.1703248 -0.41108557 -0.45793893  0.1874271  0.03776190\n",
       " 8: 2014Q4 -0.3758835 -0.65684953 -0.56895443 -0.4478433 -0.53514254\n",
       " 9: 2015Q1 -0.9544688 -0.36316018 -0.29141568  1.5322129  1.08412084\n",
       "10: 2015Q2 -0.3944690 -0.02257116  0.05550775  1.2416521  0.98254650\n",
       "11: 2015Q3 -0.4932043 -0.01762084  0.11101550  0.7940879  0.60628460\n",
       "12: 2015Q4  0.8024305  0.89964184  0.92975480 -0.1730526  0.03746082\n",
       "13: 2016Q1  0.2645720  0.19023680  0.23590793 -0.6344330 -0.53416048\n",
       "14: 2016Q2  2.2266301  1.62163378  1.51258617  1.5022078  1.84642962\n",
       "15: 2016Q3  1.4439176  1.85226474  1.79012491  1.4421977  1.79695566\n",
       "16: 2016Q4  1.2045426  1.72796977  1.79012491 -0.5854480 -0.20300816\n",
       "    표준편차_증감률 평균_증감률 중앙값_증감률 건수_증감률 총합_증감률\n",
       " 1:     -0.09574684 -0.27536349    -0.3571339  -0.2027371  -0.2320515\n",
       " 2:     -1.01692811 -0.91947821    -0.6746135   0.4966058   0.2586494\n",
       " 3:     -1.51269132 -1.18230408    -1.1940452  -0.5357949  -0.6549465\n",
       " 4:      1.06710446  1.24406899     1.3126070   0.4136963   0.5585300\n",
       " 5:      0.72124339 -0.02656680    -0.1702307   0.4383983   0.3867041\n",
       " 6:     -0.68544280 -0.72938496    -0.6661473  -1.1585696  -1.1162940\n",
       " 7:      0.52037137  0.40032807     0.2066067   1.4606078   1.3902778\n",
       " 8:     -0.33888375 -0.73977990    -0.6017356  -0.6973674  -0.7149252\n",
       " 9:     -0.79256194  0.29221851     0.2608928   1.6859321   1.4793911\n",
       "10:      0.61511052  0.36546787     0.3953337  -0.3656255  -0.2945453\n",
       "11:     -0.21485401 -0.26632615    -0.2405251  -0.4697984  -0.4697791\n",
       "12:      1.48102510  1.39847596     1.3542356  -0.8433740  -0.6312489\n",
       "13:     -0.68230241 -1.47398468    -1.7077170  -0.6037814  -0.7138949\n",
       "14:      2.14040686  2.29015701     2.2817180   1.9795453   2.2829626\n",
       "15:     -0.86182827  0.09284055     0.1578884  -0.2365903  -0.2574866\n",
       "16:     -0.34402225 -0.47036868    -0.3571339  -1.3611469  -1.2713430\n"
      ]
     },
     "metadata": {},
     "output_type": "display_data"
    }
   ],
   "source": [
    "normaltrade"
   ]
  },
  {
   "cell_type": "markdown",
   "metadata": {},
   "source": [
    "### ⊙각 분포, 분기별 [표준편차, 평균, 건수, 총합] 그래프 ⊙"
   ]
  },
  {
   "cell_type": "code",
   "execution_count": 38,
   "metadata": {},
   "outputs": [],
   "source": [
    "#그래프안에 선택한 값을 표현하기 위해 melt 한다.\n",
    "normal <- melt(normaltrade[[2]][order(분기)], id.vars = '분기', measure.vars = c(names(normaltrade[[2]])[c(2,3,5,6)]))\n",
    "out1.5 <- melt(outtrade1.5[[2]][order(분기)], id.vars = '분기', measure.vars = c(names(outtrade1.5[[2]])[c(2,3,5,6)]))\n",
    "out3 <- melt(outtrade3[[2]][order(분기)], id.vars = '분기', measure.vars = c(names(outtrade3[[2]])[c(2,3,5,6)]))"
   ]
  },
  {
   "cell_type": "code",
   "execution_count": 39,
   "metadata": {},
   "outputs": [],
   "source": [
    "p1 <- ggplot(normal,aes(x=분기, y=value, colour = variable,  group = variable)) +\n",
    "  geom_line(size = .8) +\n",
    "  theme(axis.text.x=element_text(angle=90))+\n",
    "  geom_vline(xintercept = c(cn),linetype=\"dashed\", alpha = .5) +\n",
    "  labs(x='',y='') +\n",
    "  guides(color=guide_legend(title=\"NORMAL\"))\n",
    "p2 <- ggplot(out1.5,aes(x=분기, y=value, colour = variable,  group = variable)) +\n",
    "  geom_line(size = .8) +\n",
    "  theme(axis.text.x=element_text(angle=90))+\n",
    "  geom_vline(xintercept = c(cn),linetype=\"dashed\", alpha = .5)+\n",
    "  labs(x = '',y='SCALE') +\n",
    "  guides(color=guide_legend(title='OUT1.5'))\n",
    "p3 <- ggplot(out3,aes(x=분기, y=value, colour = variable,  group = variable)) +\n",
    "  geom_line(size = .8) +\n",
    "  theme(axis.text.x=element_text(angle=90))+\n",
    "  geom_vline(xintercept = c(cn),linetype=\"dashed\", alpha = .5)+\n",
    "  labs(x='QUARTER OF A YEAR', y = '') +\n",
    "  guides(color=guide_legend(title='OUT3'))"
   ]
  },
  {
   "cell_type": "code",
   "execution_count": 40,
   "metadata": {
    "scrolled": false
   },
   "outputs": [
    {
     "data": {
      "image/png": "[encoded data removed]",
      "text/plain": [
       "plot without title"
      ]
     },
     "metadata": {},
     "output_type": "display_data"
    }
   ],
   "source": [
    "grid.arrange(p1, p2, p3, ncol=1)"
   ]
  },
  {
   "cell_type": "markdown",
   "metadata": {},
   "source": [
    "- - -\n",
    "**NORMAL, OUTLIER1.5 표준편차, 평균, 건수, 총합이 상승 추이를 그리고 있으며 계절성을 띄고 있다고 보기에는 힘들다.** 눈에 띄는 지점은 2016Q1시점으로 전체적으로 하양세를 그리고 있으나 **out1.5 분포의 표준편차는 상승하고 있다. 전체적인 분위기는 하양세이나 평균가가 높은 지역이나 단지들의 거래는 오히려 상승하지 않았을까 추측이 가능하다.** 조금 더 눈에 띄는 추이를 확인하기 위해 전분기 대비 증감률 그래프를 확인한다.\n",
    "- - -"
   ]
  },
  {
   "cell_type": "markdown",
   "metadata": {},
   "source": [
    "### ⊙각 분포, 분기별 [표준편차, 평균, 건수, 총합] 증감률 그래프⊙"
   ]
  },
  {
   "cell_type": "code",
   "execution_count": 41,
   "metadata": {},
   "outputs": [],
   "source": [
    "normalb <- melt(normaltrade[[2]][order(분기)], id.vars = '분기', measure.vars = c(names(normaltrade[[2]])[c(7,8,10,11)]))\n",
    "out1.5b <- melt(outtrade1.5[[2]][order(분기)], id.vars = '분기', measure.vars = c(names(outtrade1.5[[2]])[c(7,8,10,11)]))\n",
    "out3b <- melt(outtrade3[[2]][order(분기)], id.vars = '분기', measure.vars = c(names(outtrade3[[2]])[c(7,8,10,11)]))\n"
   ]
  },
  {
   "cell_type": "code",
   "execution_count": 42,
   "metadata": {},
   "outputs": [],
   "source": [
    "p1b <- ggplot(normalb,aes(x=분기, y=value, colour = variable,  group = variable)) +\n",
    "  geom_line(size = .8) +\n",
    "  theme(axis.text.x=element_text(angle=90))+\n",
    "  geom_vline(xintercept = c(cn),linetype=\"dashed\", alpha = .5) +\n",
    "  labs(x='',y='') +\n",
    "  guides(color=guide_legend(title=\"NORMAL\"))\n",
    "p2b <- ggplot(out1.5b,aes(x=분기, y=value, colour = variable,  group = variable)) +\n",
    "  geom_line(size = .8) +\n",
    "  theme(axis.text.x=element_text(angle=90))+\n",
    "  geom_vline(xintercept = c(cn),linetype=\"dashed\", alpha = .5)+\n",
    "  labs(x = '',y='SCALE') +\n",
    "  guides(color=guide_legend(title='OUT1.5'))\n",
    "p3b <- ggplot(out3b,aes(x=분기, y=value, colour = variable,  group = variable)) +\n",
    "  geom_line(size = .8) +\n",
    "  theme(axis.text.x=element_text(angle=90))+\n",
    "  geom_vline(xintercept = c(cn),linetype=\"dashed\", alpha = .5)+\n",
    "  labs(x='QUARTER OF A YEAR', y = '') +\n",
    "  guides(color=guide_legend(title='OUT3'))"
   ]
  },
  {
   "cell_type": "code",
   "execution_count": 43,
   "metadata": {},
   "outputs": [
    {
     "data": {
      "image/png": "[encoded data removed]",
      "text/plain": [
       "plot without title"
      ]
     },
     "metadata": {},
     "output_type": "display_data"
    }
   ],
   "source": [
    "grid.arrange(p1b, p2b, p3b, ncol=1)"
   ]
  },
  {
   "cell_type": "markdown",
   "metadata": {},
   "source": [
    "- - -\n",
    "계절성 주기가 분기에 있다고 판단하기는 어렵다. **부동산 대책이 상승세이거나 하양세를 그릴때마다 있었며**  증감은 그에 어느정도 영향을 받고 있음이 확인 된다. 2014Q1 시점에 NORMA과 OUT1.5는 하락세이나 out3에서 큰폭의 증가가 있었고 이후 큰폭의 하락을 보인다.  **2015Q1시점에 건수와 총합, 평균은 상승하고 표준편차는 하락 한 것을 보면 전체적으로 고른 거래가 있었음을 확인 할 수 있다.**\n",
    "- - -"
   ]
  },
  {
   "cell_type": "markdown",
   "metadata": {},
   "source": [
    "### ⊙일반 거래와 증감률이 상반되는 분기 확인⊙\n",
    " 그래프를 확인하면 normaltrade, outtrade1.5, outtrade3의 추이는 비슷한 형태를 그리지만 상반되는 시점들이 있다. 이를 확인 하여 당시의 뉴스기사 스크롤링을 통하여 상반되는 각 시점마다의 분위기를 확인하여 요인 파악한다."
   ]
  },
  {
   "cell_type": "code",
   "execution_count": 44,
   "metadata": {},
   "outputs": [],
   "source": [
    "a <- normaltrade[[1]][order(분기)][,8] > 0  \n",
    "c <- normaltrade[[1]][order(분기)][,8] < 0\n",
    "\n",
    "b <- outtrade1.5[[1]][order(분기)][,8] < 0\n",
    "d <- outtrade1.5[[1]][order(분기)][,8] > 0\n",
    "\n",
    "e <- outtrade3[[1]][order(분기)][,8] < 0\n",
    "f <- outtrade3[[1]][order(분기)][,8] > 0"
   ]
  },
  {
   "cell_type": "code",
   "execution_count": 45,
   "metadata": {},
   "outputs": [
    {
     "name": "stdout",
     "output_type": "stream",
     "text": [
      "NORMAL 상승 | OUT1.5 하락"
     ]
    },
    {
     "data": {
      "text/html": [
       "<table>\n",
       "<thead><tr><th scope=col>분기</th></tr></thead>\n",
       "<tbody>\n",
       "\t<tr><td>2013Q4</td></tr>\n",
       "\t<tr><td>2014Q3</td></tr>\n",
       "\t<tr><td>2015Q1</td></tr>\n",
       "\t<tr><td>2015Q2</td></tr>\n",
       "</tbody>\n",
       "</table>\n"
      ],
      "text/latex": [
       "\\begin{tabular}{r|l}\n",
       " 분기\\\\\n",
       "\\hline\n",
       "\t 2013Q4\\\\\n",
       "\t 2014Q3\\\\\n",
       "\t 2015Q1\\\\\n",
       "\t 2015Q2\\\\\n",
       "\\end{tabular}\n"
      ],
      "text/markdown": [
       "\n",
       "분기 | \n",
       "|---|---|---|---|\n",
       "| 2013Q4 | \n",
       "| 2014Q3 | \n",
       "| 2015Q1 | \n",
       "| 2015Q2 | \n",
       "\n",
       "\n"
      ],
      "text/plain": [
       "  분기  \n",
       "1 2013Q4\n",
       "2 2014Q3\n",
       "3 2015Q1\n",
       "4 2015Q2"
      ]
     },
     "metadata": {},
     "output_type": "display_data"
    },
    {
     "name": "stdout",
     "output_type": "stream",
     "text": [
      "NORMAL 하락 | OUT1.5 상승"
     ]
    },
    {
     "data": {
      "text/html": [
       "<table>\n",
       "<thead><tr><th scope=col>분기</th></tr></thead>\n",
       "<tbody>\n",
       "\t<tr><td>2013Q3</td></tr>\n",
       "\t<tr><td>2014Q2</td></tr>\n",
       "</tbody>\n",
       "</table>\n"
      ],
      "text/latex": [
       "\\begin{tabular}{r|l}\n",
       " 분기\\\\\n",
       "\\hline\n",
       "\t 2013Q3\\\\\n",
       "\t 2014Q2\\\\\n",
       "\\end{tabular}\n"
      ],
      "text/markdown": [
       "\n",
       "분기 | \n",
       "|---|---|\n",
       "| 2013Q3 | \n",
       "| 2014Q2 | \n",
       "\n",
       "\n"
      ],
      "text/plain": [
       "  분기  \n",
       "1 2013Q3\n",
       "2 2014Q2"
      ]
     },
     "metadata": {},
     "output_type": "display_data"
    },
    {
     "name": "stdout",
     "output_type": "stream",
     "text": [
      "---------------------------\n",
      "\n",
      "NORMAL 상승 | OUT3 하락"
     ]
    },
    {
     "data": {
      "text/html": [
       "<table>\n",
       "<thead><tr><th scope=col>분기</th></tr></thead>\n",
       "<tbody>\n",
       "\t<tr><td>2014Q3</td></tr>\n",
       "\t<tr><td>2015Q2</td></tr>\n",
       "\t<tr><td>2015Q4</td></tr>\n",
       "\t<tr><td>2016Q3</td></tr>\n",
       "</tbody>\n",
       "</table>\n"
      ],
      "text/latex": [
       "\\begin{tabular}{r|l}\n",
       " 분기\\\\\n",
       "\\hline\n",
       "\t 2014Q3\\\\\n",
       "\t 2015Q2\\\\\n",
       "\t 2015Q4\\\\\n",
       "\t 2016Q3\\\\\n",
       "\\end{tabular}\n"
      ],
      "text/markdown": [
       "\n",
       "분기 | \n",
       "|---|---|---|---|\n",
       "| 2014Q3 | \n",
       "| 2015Q2 | \n",
       "| 2015Q4 | \n",
       "| 2016Q3 | \n",
       "\n",
       "\n"
      ],
      "text/plain": [
       "  분기  \n",
       "1 2014Q3\n",
       "2 2015Q2\n",
       "3 2015Q4\n",
       "4 2016Q3"
      ]
     },
     "metadata": {},
     "output_type": "display_data"
    },
    {
     "name": "stdout",
     "output_type": "stream",
     "text": [
      "NORMAL 하락 | OUT3 상승"
     ]
    },
    {
     "data": {
      "text/html": [
       "<table>\n",
       "<thead><tr><th scope=col>분기</th></tr></thead>\n",
       "<tbody>\n",
       "\t<tr><td>2013Q2</td></tr>\n",
       "\t<tr><td>2014Q2</td></tr>\n",
       "\t<tr><td>2014Q4</td></tr>\n",
       "</tbody>\n",
       "</table>\n"
      ],
      "text/latex": [
       "\\begin{tabular}{r|l}\n",
       " 분기\\\\\n",
       "\\hline\n",
       "\t 2013Q2\\\\\n",
       "\t 2014Q2\\\\\n",
       "\t 2014Q4\\\\\n",
       "\\end{tabular}\n"
      ],
      "text/markdown": [
       "\n",
       "분기 | \n",
       "|---|---|---|\n",
       "| 2013Q2 | \n",
       "| 2014Q2 | \n",
       "| 2014Q4 | \n",
       "\n",
       "\n"
      ],
      "text/plain": [
       "  분기  \n",
       "1 2013Q2\n",
       "2 2014Q2\n",
       "3 2014Q4"
      ]
     },
     "metadata": {},
     "output_type": "display_data"
    }
   ],
   "source": [
    "cat('NORMAL 상승 | OUT1.5 하락')\n",
    "normaltrade[[1]][,1][which(as.logical(a==T & b==T))]\n",
    "cat('NORMAL 하락 | OUT1.5 상승')\n",
    "normaltrade[[1]][,1][which(as.logical(c==T & d==T))]\n",
    "cat('---------------------------')\n",
    "cat('\\n\\nNORMAL 상승 | OUT3 하락')\n",
    "normaltrade[[1]][,1][which(as.logical(a==T & e==T))]\n",
    "cat('NORMAL 하락 | OUT3 상승')\n",
    "normaltrade[[1]][,1][which(as.logical(c==T & f==T))]"
   ]
  },
  {
   "cell_type": "markdown",
   "metadata": {},
   "source": [
    "#### Save to MYSQL "
   ]
  },
  {
   "cell_type": "code",
   "execution_count": 46,
   "metadata": {},
   "outputs": [],
   "source": [
    "#mysql db에 data.table을 저장하는 함수 \n",
    "#inputDt : 기술통계가 연산된 데이터 테이블\n",
    "#dtname : database에 생성 할 테이블 이름\n",
    "\n",
    "conMySQL <- function(inputDt, dtname){\n",
    "  \n",
    "  con <- dbConnect(MySQL(), user='root',password='1234', dbname = 'APT',\n",
    "                   host='localhost', client.flag = CLIENT_MULTI_RESULTS)\n",
    "  \n",
    "  colnames(inputDt) <- c(\"quter\",'sd','mean','med','n','sum','sd_per','mean_per','med_per','n_per','sum_per')\n",
    "  \n",
    "  \n",
    "  query <- paste0(\"create table if not exists \", dtname, paste('(quter varchar(6)',\n",
    "                                                                 'sd float(7,3)',\n",
    "                                                                 'mean float(7,3)',\n",
    "                                                                 'med float(7,3)',\n",
    "                                                                 'n int(7)',\n",
    "                                                                 'sum float(10,3)',\n",
    "                                                                 'sd_per float(5,3)',\n",
    "                                                                 'mean_per float(5,3)',\n",
    "                                                                 'med_per float(5,3)',\n",
    "                                                                 'n_per float(5,3)',\n",
    "                                                                 'sum_per float(5,3))',sep = ','))\n",
    "  dbGetQuery(con, query)\n",
    "  dbWriteTable(con, dtname, inputDt, overwrite = F, row.names = FALSE, append = T, fileEncoding = 'UTF-8')\n",
    "  dbDisconnect(con)\n",
    "  \n",
    "} "
   ]
  },
  {
   "cell_type": "code",
   "execution_count": 47,
   "metadata": {},
   "outputs": [
    {
     "data": {
      "text/html": [
       "TRUE"
      ],
      "text/latex": [
       "TRUE"
      ],
      "text/markdown": [
       "TRUE"
      ],
      "text/plain": [
       "[1] TRUE"
      ]
     },
     "metadata": {},
     "output_type": "display_data"
    },
    {
     "data": {
      "text/html": [
       "TRUE"
      ],
      "text/latex": [
       "TRUE"
      ],
      "text/markdown": [
       "TRUE"
      ],
      "text/plain": [
       "[1] TRUE"
      ]
     },
     "metadata": {},
     "output_type": "display_data"
    },
    {
     "data": {
      "text/html": [
       "TRUE"
      ],
      "text/latex": [
       "TRUE"
      ],
      "text/markdown": [
       "TRUE"
      ],
      "text/plain": [
       "[1] TRUE"
      ]
     },
     "metadata": {},
     "output_type": "display_data"
    }
   ],
   "source": [
    "conMySQL(normaltrade[[1]], \"normalapt\")\n",
    "conMySQL(outtrade1.5[[1]], \"outtrade1\")\n",
    "conMySQL(outtrade3[[1]], \"outtrade3\")"
   ]
  },
  {
   "cell_type": "markdown",
   "metadata": {},
   "source": [
    "#### PS & Todo\n",
    "- 부동산 거래 분석은 거래 추이에 영향이 있는 년도별, 분기별, 구별, 동별, 전용면적별, 층등 다양한 요인이 있다. \n",
    "  그 특성에 따른 분포 또한 다양하여 분포별로 나누거나, 데이터를 융합하고, 부동산 시장추이와 밀접한 관계에 있는   요인을 판별하여 분석을 할 필요가 있다.\n",
    "- 찾아낸 분기 정보를 바탕으로 파이썬을 이용하여 우선적으로 기사 정보를 스크롤링 한다. 증감율이 분포마다 상반되   었을때 어떤 분위기가 형성되어있었으며 그 요인을 파악 할 수 있는지 시점의 차이에 따른 단어의 사용빈도를 확인     한다. "
   ]
  }
 ],
 "metadata": {
  "kernelspec": {
   "display_name": "Python 3",
   "language": "python",
   "name": "python3"
  },
  "language_info": {
   "codemirror_mode": {
    "name": "ipython",
    "version": 3
   },
   "file_extension": ".py",
   "mimetype": "text/x-python",
   "name": "python",
   "nbconvert_exporter": "python",
   "pygments_lexer": "ipython3",
   "version": "3.6.4"
  }
 },
 "nbformat": 4,
 "nbformat_minor": 2
}
